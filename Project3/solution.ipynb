{
 "cells": [
  {
   "cell_type": "markdown",
   "metadata": {},
   "source": [
    "1. Need write an algorithm for detecting structural variants and compare the result with some already existing solution such as BreakDancer\n",
    "2. There are different approaches to detecting structural variants, such as:\n",
    "    1. Read-Pair\n",
    "    2. And others available at lab slides"
   ]
  },
  {
   "cell_type": "code",
   "execution_count": null,
   "metadata": {},
   "outputs": [],
   "source": []
  }
 ],
 "metadata": {
  "language_info": {
   "name": "python"
  }
 },
 "nbformat": 4,
 "nbformat_minor": 2
}
