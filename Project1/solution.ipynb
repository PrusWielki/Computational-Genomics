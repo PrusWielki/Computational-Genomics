{
 "cells": [
  {
   "cell_type": "code",
   "execution_count": null,
   "metadata": {},
   "outputs": [
    {
     "name": "stderr",
     "output_type": "stream",
     "text": [
      "C:\\Users\\prusak.patryk\\AppData\\Local\\Temp\\ipykernel_12428\\1057473989.py:1: DeprecationWarning: \n",
      "Pyarrow will become a required dependency of pandas in the next major release of pandas (pandas 3.0),\n",
      "(to allow more performant data types, such as the Arrow string type, and better interoperability with other libraries)\n",
      "but was not found to be installed on your system.\n",
      "If this would cause problems for you,\n",
      "please provide us feedback at https://github.com/pandas-dev/pandas/issues/54466\n",
      "        \n",
      "  import pandas as pd\n"
     ]
    }
   ],
   "source": [
    "import pandas as pd\n",
    "import numpy as np\n",
    "import pyranges\n",
    "import pickle"
   ]
  },
  {
   "cell_type": "code",
   "execution_count": 3,
   "metadata": {},
   "outputs": [
    {
     "name": "stderr",
     "output_type": "stream",
     "text": [
      "c:\\Users\\prusak.patryk\\AppData\\Local\\Programs\\Python\\Python312\\Lib\\site-packages\\pyranges\\methods\\init.py:45: FutureWarning: The default of observed=False is deprecated and will be changed to True in a future version of pandas. Pass observed=False to retain current behavior or observed=True to adopt the future default and silence this warning.\n",
      "  return {k: v for k, v in df.groupby(grpby_key)}\n",
      "c:\\Users\\prusak.patryk\\AppData\\Local\\Programs\\Python\\Python312\\Lib\\site-packages\\pyranges\\methods\\init.py:45: FutureWarning: The default of observed=False is deprecated and will be changed to True in a future version of pandas. Pass observed=False to retain current behavior or observed=True to adopt the future default and silence this warning.\n",
      "  return {k: v for k, v in df.groupby(grpby_key)}\n"
     ]
    }
   ],
   "source": [
    "hicLoops = pd.read_csv('./Dataset/merged_loops.bedpe',delimiter='\\t')\n",
    "ctcfPeaks = pyranges.read_bed('./Dataset/ENCFF356LIU.bed')\n",
    "chiaPetLoops = pd.read_csv('./Dataset/4DNFIS9CCN6R.bedpe',delimiter='\\t', header=None)\n",
    "# chiaPetLoops= np.genfromtxt('./Dataset/4DNFIS9CCN6R.bedpe', delimiter='\\t')\n",
    "\n",
    "\n",
    "rad21=pyranges.read_bed('./Dataset/ENCFF834GOT.bed')"
   ]
  },
  {
   "cell_type": "code",
   "execution_count": 5,
   "metadata": {},
   "outputs": [
    {
     "data": {
      "text/html": [
       "<div>\n",
       "<style scoped>\n",
       "    .dataframe tbody tr th:only-of-type {\n",
       "        vertical-align: middle;\n",
       "    }\n",
       "\n",
       "    .dataframe tbody tr th {\n",
       "        vertical-align: top;\n",
       "    }\n",
       "\n",
       "    .dataframe thead th {\n",
       "        text-align: right;\n",
       "    }\n",
       "</style>\n",
       "<table border=\"1\" class=\"dataframe\">\n",
       "  <thead>\n",
       "    <tr style=\"text-align: right;\">\n",
       "      <th></th>\n",
       "      <th>#chr1</th>\n",
       "      <th>x1</th>\n",
       "      <th>x2</th>\n",
       "      <th>chr2</th>\n",
       "      <th>y1</th>\n",
       "      <th>y2</th>\n",
       "      <th>name</th>\n",
       "      <th>score</th>\n",
       "      <th>strand1</th>\n",
       "      <th>strand2</th>\n",
       "      <th>...</th>\n",
       "      <th>expectedH</th>\n",
       "      <th>expectedV</th>\n",
       "      <th>fdrBL</th>\n",
       "      <th>fdrDonut</th>\n",
       "      <th>fdrH</th>\n",
       "      <th>fdrV</th>\n",
       "      <th>numCollapsed</th>\n",
       "      <th>centroid1</th>\n",
       "      <th>centroid2</th>\n",
       "      <th>radius</th>\n",
       "    </tr>\n",
       "  </thead>\n",
       "  <tbody>\n",
       "    <tr>\n",
       "      <th>1</th>\n",
       "      <td>10</td>\n",
       "      <td>60880000.0</td>\n",
       "      <td>60890000.0</td>\n",
       "      <td>10</td>\n",
       "      <td>60960000.0</td>\n",
       "      <td>60970000.0</td>\n",
       "      <td>.</td>\n",
       "      <td>.</td>\n",
       "      <td>.</td>\n",
       "      <td>.</td>\n",
       "      <td>...</td>\n",
       "      <td>29.857151</td>\n",
       "      <td>34.565178</td>\n",
       "      <td>5.510599e-06</td>\n",
       "      <td>3.417617e-03</td>\n",
       "      <td>6.518073e-06</td>\n",
       "      <td>4.352302e-03</td>\n",
       "      <td>1.0</td>\n",
       "      <td>60885000.0</td>\n",
       "      <td>60965000.0</td>\n",
       "      <td>0.0</td>\n",
       "    </tr>\n",
       "    <tr>\n",
       "      <th>2</th>\n",
       "      <td>10</td>\n",
       "      <td>131900000.0</td>\n",
       "      <td>131910000.0</td>\n",
       "      <td>10</td>\n",
       "      <td>131980000.0</td>\n",
       "      <td>131990000.0</td>\n",
       "      <td>.</td>\n",
       "      <td>.</td>\n",
       "      <td>.</td>\n",
       "      <td>.</td>\n",
       "      <td>...</td>\n",
       "      <td>47.551224</td>\n",
       "      <td>38.399870</td>\n",
       "      <td>4.084538e-06</td>\n",
       "      <td>5.531278e-03</td>\n",
       "      <td>6.420658e-03</td>\n",
       "      <td>5.203196e-06</td>\n",
       "      <td>2.0</td>\n",
       "      <td>131905000.0</td>\n",
       "      <td>131980000.0</td>\n",
       "      <td>5000.0</td>\n",
       "    </tr>\n",
       "    <tr>\n",
       "      <th>3</th>\n",
       "      <td>10</td>\n",
       "      <td>71720000.0</td>\n",
       "      <td>71730000.0</td>\n",
       "      <td>10</td>\n",
       "      <td>71810000.0</td>\n",
       "      <td>71820000.0</td>\n",
       "      <td>.</td>\n",
       "      <td>.</td>\n",
       "      <td>.</td>\n",
       "      <td>.</td>\n",
       "      <td>...</td>\n",
       "      <td>56.117943</td>\n",
       "      <td>43.748466</td>\n",
       "      <td>2.594937e-06</td>\n",
       "      <td>2.825991e-06</td>\n",
       "      <td>8.173968e-03</td>\n",
       "      <td>3.346481e-06</td>\n",
       "      <td>2.0</td>\n",
       "      <td>71715000.0</td>\n",
       "      <td>71815000.0</td>\n",
       "      <td>10000.0</td>\n",
       "    </tr>\n",
       "    <tr>\n",
       "      <th>4</th>\n",
       "      <td>10</td>\n",
       "      <td>62610000.0</td>\n",
       "      <td>62620000.0</td>\n",
       "      <td>10</td>\n",
       "      <td>62730000.0</td>\n",
       "      <td>62740000.0</td>\n",
       "      <td>.</td>\n",
       "      <td>.</td>\n",
       "      <td>.</td>\n",
       "      <td>.</td>\n",
       "      <td>...</td>\n",
       "      <td>72.266400</td>\n",
       "      <td>52.050930</td>\n",
       "      <td>6.261819e-07</td>\n",
       "      <td>7.079455e-07</td>\n",
       "      <td>5.628446e-03</td>\n",
       "      <td>7.618980e-07</td>\n",
       "      <td>1.0</td>\n",
       "      <td>62615000.0</td>\n",
       "      <td>62735000.0</td>\n",
       "      <td>0.0</td>\n",
       "    </tr>\n",
       "    <tr>\n",
       "      <th>5</th>\n",
       "      <td>10</td>\n",
       "      <td>26780000.0</td>\n",
       "      <td>26790000.0</td>\n",
       "      <td>10</td>\n",
       "      <td>26850000.0</td>\n",
       "      <td>26860000.0</td>\n",
       "      <td>.</td>\n",
       "      <td>.</td>\n",
       "      <td>.</td>\n",
       "      <td>.</td>\n",
       "      <td>...</td>\n",
       "      <td>65.557430</td>\n",
       "      <td>90.107475</td>\n",
       "      <td>3.840393e-07</td>\n",
       "      <td>4.753292e-07</td>\n",
       "      <td>5.291055e-07</td>\n",
       "      <td>9.047872e-03</td>\n",
       "      <td>1.0</td>\n",
       "      <td>26785000.0</td>\n",
       "      <td>26855000.0</td>\n",
       "      <td>0.0</td>\n",
       "    </tr>\n",
       "  </tbody>\n",
       "</table>\n",
       "<p>5 rows × 24 columns</p>\n",
       "</div>"
      ],
      "text/plain": [
       "  #chr1           x1           x2 chr2           y1           y2 name score  \\\n",
       "1    10   60880000.0   60890000.0   10   60960000.0   60970000.0    .     .   \n",
       "2    10  131900000.0  131910000.0   10  131980000.0  131990000.0    .     .   \n",
       "3    10   71720000.0   71730000.0   10   71810000.0   71820000.0    .     .   \n",
       "4    10   62610000.0   62620000.0   10   62730000.0   62740000.0    .     .   \n",
       "5    10   26780000.0   26790000.0   10   26850000.0   26860000.0    .     .   \n",
       "\n",
       "  strand1 strand2  ...  expectedH  expectedV         fdrBL      fdrDonut  \\\n",
       "1       .       .  ...  29.857151  34.565178  5.510599e-06  3.417617e-03   \n",
       "2       .       .  ...  47.551224  38.399870  4.084538e-06  5.531278e-03   \n",
       "3       .       .  ...  56.117943  43.748466  2.594937e-06  2.825991e-06   \n",
       "4       .       .  ...  72.266400  52.050930  6.261819e-07  7.079455e-07   \n",
       "5       .       .  ...  65.557430  90.107475  3.840393e-07  4.753292e-07   \n",
       "\n",
       "           fdrH          fdrV  numCollapsed    centroid1    centroid2   radius  \n",
       "1  6.518073e-06  4.352302e-03           1.0   60885000.0   60965000.0      0.0  \n",
       "2  6.420658e-03  5.203196e-06           2.0  131905000.0  131980000.0   5000.0  \n",
       "3  8.173968e-03  3.346481e-06           2.0   71715000.0   71815000.0  10000.0  \n",
       "4  5.628446e-03  7.618980e-07           1.0   62615000.0   62735000.0      0.0  \n",
       "5  5.291055e-07  9.047872e-03           1.0   26785000.0   26855000.0      0.0  \n",
       "\n",
       "[5 rows x 24 columns]"
      ]
     },
     "execution_count": 5,
     "metadata": {},
     "output_type": "execute_result"
    }
   ],
   "source": [
    "hicLoops=hicLoops[1:]\n",
    "hicLoops.head()\n",
    "# ctcfPeaks.head()"
   ]
  },
  {
   "cell_type": "code",
   "execution_count": 21,
   "metadata": {},
   "outputs": [],
   "source": [
    "hicLoopsX=hicLoops[['x1','x2']]\n",
    "hicLoopsXArr=hicLoopsX.to_numpy()\n",
    "ctcfPeaksStartEndArr=ctcfPeaks.df[['Start','End']].to_numpy()\n",
    "rad21StartEndArr=rad21.df[['Start','End']].to_numpy()\n",
    "chiaPetLoopsXArr=chiaPetLoops.to_numpy()[:,[1,2]]\n"
   ]
  },
  {
   "cell_type": "code",
   "execution_count": 23,
   "metadata": {},
   "outputs": [
    {
     "ename": "KeyboardInterrupt",
     "evalue": "",
     "output_type": "error",
     "traceback": [
      "\u001b[1;31m---------------------------------------------------------------------------\u001b[0m",
      "\u001b[1;31mKeyboardInterrupt\u001b[0m                         Traceback (most recent call last)",
      "Cell \u001b[1;32mIn[23], line 7\u001b[0m\n\u001b[0;32m      5\u001b[0m         \u001b[38;5;28;01mif\u001b[39;00m (peak[\u001b[38;5;241m0\u001b[39m]\u001b[38;5;241m>\u001b[39m\u001b[38;5;241m=\u001b[39mloop[\u001b[38;5;241m0\u001b[39m] \u001b[38;5;129;01mand\u001b[39;00m peak[\u001b[38;5;241m0\u001b[39m]\u001b[38;5;241m<\u001b[39m\u001b[38;5;241m=\u001b[39mloop[\u001b[38;5;241m1\u001b[39m]) \u001b[38;5;129;01mor\u001b[39;00m (peak[\u001b[38;5;241m1\u001b[39m]\u001b[38;5;241m>\u001b[39m\u001b[38;5;241m=\u001b[39mloop[\u001b[38;5;241m0\u001b[39m] \u001b[38;5;129;01mand\u001b[39;00m peak[\u001b[38;5;241m1\u001b[39m]\u001b[38;5;241m<\u001b[39m\u001b[38;5;241m=\u001b[39mloop[\u001b[38;5;241m1\u001b[39m]):\n\u001b[0;32m      6\u001b[0m             peakLoopHicLCtcfPSingleAnchorCount\u001b[38;5;241m+\u001b[39m\u001b[38;5;241m=\u001b[39m\u001b[38;5;241m1\u001b[39m\n\u001b[1;32m----> 7\u001b[0m         \u001b[38;5;28;01mif\u001b[39;00m peak[\u001b[38;5;241m0\u001b[39m]\u001b[38;5;241m>\u001b[39m\u001b[38;5;241m=\u001b[39mloop[\u001b[38;5;241m0\u001b[39m] \u001b[38;5;129;01mand\u001b[39;00m peak[\u001b[38;5;241m0\u001b[39m]\u001b[38;5;241m<\u001b[39m\u001b[38;5;241m=\u001b[39mloop[\u001b[38;5;241m1\u001b[39m] \u001b[38;5;129;01mand\u001b[39;00m peak[\u001b[38;5;241m1\u001b[39m]\u001b[38;5;241m>\u001b[39m\u001b[38;5;241m=\u001b[39mloop[\u001b[38;5;241m0\u001b[39m] \u001b[38;5;129;01mand\u001b[39;00m peak[\u001b[38;5;241m1\u001b[39m]\u001b[38;5;241m<\u001b[39m\u001b[38;5;241m=\u001b[39mloop[\u001b[38;5;241m1\u001b[39m]:\n\u001b[0;32m      8\u001b[0m             peakLoopHicLCtcfPPairs\u001b[38;5;241m.\u001b[39mappend([i,j])\n\u001b[0;32m     10\u001b[0m \u001b[38;5;28;01mwith\u001b[39;00m \u001b[38;5;28mopen\u001b[39m(\u001b[38;5;124m\"\u001b[39m\u001b[38;5;124mpeakLoopHicLCtcfPPairs\u001b[39m\u001b[38;5;124m\"\u001b[39m, \u001b[38;5;124m\"\u001b[39m\u001b[38;5;124mwb\u001b[39m\u001b[38;5;124m\"\u001b[39m) \u001b[38;5;28;01mas\u001b[39;00m f:\n",
      "\u001b[1;31mKeyboardInterrupt\u001b[0m: "
     ]
    }
   ],
   "source": [
    "peakLoopHicLCtcfPPairs = []\n",
    "peakLoopHicLCtcfPSingleAnchorCount = 0\n",
    "for i,loop in enumerate(hicLoopsXArr):\n",
    "    for j,peak in enumerate(ctcfPeaksStartEndArr):\n",
    "        if (peak[0]>=loop[0] and peak[0]<=loop[1]) or (peak[1]>=loop[0] and peak[1]<=loop[1]):\n",
    "            peakLoopHicLCtcfPSingleAnchorCount+=1\n",
    "        if peak[0]>=loop[0] and peak[0]<=loop[1] and peak[1]>=loop[0] and peak[1]<=loop[1]:\n",
    "            peakLoopHicLCtcfPPairs.append([i,j])\n",
    "\n",
    "with open(\"peakLoopHicLCtcfPPairs\", \"wb\") as f:\n",
    "    pickle.dump(peakLoopHicLCtcfPPairs, f)\n",
    "with open(\"peakLoopHicLCtcfPSingleAnchorCount\", \"wb\") as f:\n",
    "    pickle.dump(peakLoopHicLCtcfPSingleAnchorCount, f)\n"
   ]
  },
  {
   "cell_type": "code",
   "execution_count": null,
   "metadata": {},
   "outputs": [],
   "source": [
    "peakLoopHicLRad21PPairs = []\n",
    "peakLoopHicLRad21PSingleAnchorCount = 0\n",
    "for i,loop in enumerate(hicLoopsXArr):\n",
    "    for j,peak in enumerate(rad21StartEndArr):\n",
    "        if (peak[0]>=loop[0] and peak[0]<=loop[1]) or (peak[1]>=loop[0] and peak[1]<=loop[1]):\n",
    "            peakLoopHicLRad21PSingleAnchorCount+=1\n",
    "        if peak[0]>=loop[0] and peak[0]<=loop[1] and peak[1]>=loop[0] and peak[1]<=loop[1]:\n",
    "            peakLoopHicLRad21PPairs.append([i,j])\n",
    "\n",
    "\n",
    "with open(\"peakLoopHicLRad21PPairs\", \"wb\") as f:\n",
    "    pickle.dump(peakLoopHicLCtcfPPairs, f)\n",
    "with open(\"peakLoopHicLRad21PSingleAnchorCount\", \"wb\") as f:\n",
    "    pickle.dump(peakLoopHicLRad21PSingleAnchorCount, f)\n"
   ]
  },
  {
   "cell_type": "code",
   "execution_count": null,
   "metadata": {},
   "outputs": [],
   "source": [
    "\n",
    "peakLoopChiaLCtcfPPairs = []\n",
    "peakLoopChiaLCtcfPSingleAnchorCount = 0\n",
    "for i,loop in enumerate(chiaPetLoopsXArr):\n",
    "    for j,peak in enumerate(ctcfPeaksStartEndArr):\n",
    "        if (peak[0]>=loop[0] and peak[0]<=loop[1]) or (peak[1]>=loop[0] and peak[1]<=loop[1]):\n",
    "            peakLoopChiaLCtcfPSingleAnchorCount+=1\n",
    "        if peak[0]>=loop[0] and peak[0]<=loop[1] and peak[1]>=loop[0] and peak[1]<=loop[1]:\n",
    "            peakLoopChiaLCtcfPPairs.append([i,j])\n",
    "\n",
    "\n",
    "with open(\"peakLoopChiaLCtcfPPairs\", \"wb\") as f:\n",
    "    pickle.dump(peakLoopChiaLCtcfPPairs, f)\n",
    "with open(\"peakLoopChiaLCtcfPSingleAnchorCount\", \"wb\") as f:\n",
    "    pickle.dump(peakLoopChiaLCtcfPSingleAnchorCount, f)\n"
   ]
  },
  {
   "cell_type": "code",
   "execution_count": 22,
   "metadata": {},
   "outputs": [
    {
     "ename": "KeyboardInterrupt",
     "evalue": "",
     "output_type": "error",
     "traceback": [
      "\u001b[1;31m---------------------------------------------------------------------------\u001b[0m",
      "\u001b[1;31mKeyboardInterrupt\u001b[0m                         Traceback (most recent call last)",
      "Cell \u001b[1;32mIn[22], line 26\u001b[0m\n\u001b[0;32m     24\u001b[0m         \u001b[38;5;28;01mif\u001b[39;00m (peak[\u001b[38;5;241m0\u001b[39m]\u001b[38;5;241m>\u001b[39m\u001b[38;5;241m=\u001b[39mloop[\u001b[38;5;241m0\u001b[39m] \u001b[38;5;129;01mand\u001b[39;00m peak[\u001b[38;5;241m0\u001b[39m]\u001b[38;5;241m<\u001b[39m\u001b[38;5;241m=\u001b[39mloop[\u001b[38;5;241m1\u001b[39m]) \u001b[38;5;129;01mor\u001b[39;00m (peak[\u001b[38;5;241m1\u001b[39m]\u001b[38;5;241m>\u001b[39m\u001b[38;5;241m=\u001b[39mloop[\u001b[38;5;241m0\u001b[39m] \u001b[38;5;129;01mand\u001b[39;00m peak[\u001b[38;5;241m1\u001b[39m]\u001b[38;5;241m<\u001b[39m\u001b[38;5;241m=\u001b[39mloop[\u001b[38;5;241m1\u001b[39m]):\n\u001b[0;32m     25\u001b[0m             peakLoopChiaLCtcfPSingleAnchorCount\u001b[38;5;241m+\u001b[39m\u001b[38;5;241m=\u001b[39m\u001b[38;5;241m1\u001b[39m\n\u001b[1;32m---> 26\u001b[0m         \u001b[38;5;28;01mif\u001b[39;00m peak[\u001b[38;5;241m0\u001b[39m]\u001b[38;5;241m>\u001b[39m\u001b[38;5;241m=\u001b[39mloop[\u001b[38;5;241m0\u001b[39m] \u001b[38;5;129;01mand\u001b[39;00m peak[\u001b[38;5;241m0\u001b[39m]\u001b[38;5;241m<\u001b[39m\u001b[38;5;241m=\u001b[39mloop[\u001b[38;5;241m1\u001b[39m] \u001b[38;5;129;01mand\u001b[39;00m peak[\u001b[38;5;241m1\u001b[39m]\u001b[38;5;241m>\u001b[39m\u001b[38;5;241m=\u001b[39mloop[\u001b[38;5;241m0\u001b[39m] \u001b[38;5;129;01mand\u001b[39;00m peak[\u001b[38;5;241m1\u001b[39m]\u001b[38;5;241m<\u001b[39m\u001b[38;5;241m=\u001b[39mloop[\u001b[38;5;241m1\u001b[39m]:\n\u001b[0;32m     27\u001b[0m             peakLoopChiaLCtcfPPairs\u001b[38;5;241m.\u001b[39mappend([i,j])\n\u001b[0;32m     30\u001b[0m peakLoopChiaLRad21PPairs \u001b[38;5;241m=\u001b[39m []\n",
      "\u001b[1;31mKeyboardInterrupt\u001b[0m: "
     ]
    }
   ],
   "source": [
    "\n",
    "peakLoopChiaLRad21PPairs = []\n",
    "peakLoopChiaLRad21PSingleAnchorCount = 0\n",
    "for i,loop in enumerate(chiaPetLoopsXArr):\n",
    "    for j,peak in enumerate(rad21StartEndArr):\n",
    "        if (peak[0]>=loop[0] and peak[0]<=loop[1]) or (peak[1]>=loop[0] and peak[1]<=loop[1]):\n",
    "            peakLoopChiaLRad21PSingleAnchorCount+=1\n",
    "        if peak[0]>=loop[0] and peak[0]<=loop[1] and peak[1]>=loop[0] and peak[1]<=loop[1]:\n",
    "            peakLoopChiaLRad21PPairs.append([i,j])\n",
    "\n",
    "\n",
    "with open(\"peakLoopChiaLRad21PPairs\", \"wb\") as f:\n",
    "    pickle.dump(peakLoopChiaLRad21PPairs, f)\n",
    "with open(\"peakLoopChiaLRad21PSingleAnchorCount\", \"wb\") as f:\n",
    "    pickle.dump(peakLoopChiaLRad21PSingleAnchorCount, f)"
   ]
  },
  {
   "cell_type": "markdown",
   "metadata": {},
   "source": [
    "Perform 4 comparisons between datasets. for two compared datasets (A and B) calculate how many loops from A match (**) some loop from B, and how many loops from B match some loop from A. You can present the result as a 2x2 table showing counts of total and matched loops for datasets."
   ]
  },
  {
   "cell_type": "markdown",
   "metadata": {},
   "source": [
    "Make a visualization of a selected region (e.g. in IGV), choose something that looks nicely, zoom in enough so that you can see the peak locations. You can also include the loops matched between 2 datasets."
   ]
  }
 ],
 "metadata": {
  "kernelspec": {
   "display_name": "Python 3",
   "language": "python",
   "name": "python3"
  },
  "language_info": {
   "codemirror_mode": {
    "name": "ipython",
    "version": 3
   },
   "file_extension": ".py",
   "mimetype": "text/x-python",
   "name": "python",
   "nbconvert_exporter": "python",
   "pygments_lexer": "ipython3",
   "version": "3.12.2"
  }
 },
 "nbformat": 4,
 "nbformat_minor": 2
}
