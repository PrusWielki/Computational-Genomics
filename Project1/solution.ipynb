{
 "cells": [
  {
   "cell_type": "code",
   "execution_count": 6,
   "metadata": {},
   "outputs": [],
   "source": [
    "import pandas as pd\n",
    "import numpy as np\n",
    "import pyranges\n",
    "import pickle\n",
    "import os.path"
   ]
  },
  {
   "cell_type": "code",
   "execution_count": 7,
   "metadata": {},
   "outputs": [
    {
     "name": "stderr",
     "output_type": "stream",
     "text": [
      "c:\\Users\\prusak.patryk\\AppData\\Local\\Programs\\Python\\Python312\\Lib\\site-packages\\pyranges\\methods\\init.py:45: FutureWarning: The default of observed=False is deprecated and will be changed to True in a future version of pandas. Pass observed=False to retain current behavior or observed=True to adopt the future default and silence this warning.\n",
      "  return {k: v for k, v in df.groupby(grpby_key)}\n",
      "c:\\Users\\prusak.patryk\\AppData\\Local\\Programs\\Python\\Python312\\Lib\\site-packages\\pyranges\\methods\\init.py:45: FutureWarning: The default of observed=False is deprecated and will be changed to True in a future version of pandas. Pass observed=False to retain current behavior or observed=True to adopt the future default and silence this warning.\n",
      "  return {k: v for k, v in df.groupby(grpby_key)}\n"
     ]
    }
   ],
   "source": [
    "hicLoops = pd.read_csv('./Dataset/merged_loops.bedpe',delimiter='\\t')\n",
    "ctcfPeaks = pyranges.read_bed('./Dataset/ENCFF356LIU.bed').df\n",
    "chiaPetLoops = pd.read_csv('./Dataset/4DNFIS9CCN6R.bedpe',delimiter='\\t', header=None)\n",
    "rad21Peaks=pyranges.read_bed('./Dataset/ENCFF834GOT.bed').df\n",
    "\n",
    "hicLoops=hicLoops[1:]\n",
    "chiaPetLoops.columns = ['#chr1','x1','x2','chr2','y1','y2','?']"
   ]
  },
  {
   "cell_type": "code",
   "execution_count": 8,
   "metadata": {},
   "outputs": [],
   "source": [
    "ctcfPeaks['Chromosome']=ctcfPeaks['Chromosome'].apply(lambda x: x.removeprefix('chr'))"
   ]
  },
  {
   "cell_type": "markdown",
   "metadata": {},
   "source": [
    "1. Given a loop, consider chr1, x1, x2, chr2, y1, y2\n",
    "2. For each row check whether a matching peak has an anchor in chr1 or chr2 or both\n",
    "3. Could be done with 2 for loops but lets try to get it dont maybe with df?"
   ]
  },
  {
   "cell_type": "code",
   "execution_count": 4,
   "metadata": {},
   "outputs": [],
   "source": [
    "def getAnchors(loops,peaks):\n",
    "    bothAnchorsIndexes = []\n",
    "    singleAnchorCount=0\n",
    "    for i,loop in loops.iterrows():\n",
    "        anchor1=False\n",
    "        anchor2=False\n",
    "        sameChromosome = peaks[peaks['Chromosome']==loop['#chr1']]\n",
    "        x1=sameChromosome[sameChromosome['Start']>=loop['x1']]\n",
    "        x2=x1[x1['End']<=loop['x2']]\n",
    "        if len(x2) > 0:\n",
    "            anchor1=True\n",
    "\n",
    "\n",
    "        sameChromosome = peaks[peaks['Chromosome']==loop['chr2']]\n",
    "        x1=sameChromosome[sameChromosome['Start']>=loop['y1']]\n",
    "        x2=x1[x1['End']<=loop['y2']]\n",
    "        if len(x2) > 0:\n",
    "            anchor2=True\n",
    "\n",
    "        if anchor1 == True and anchor2 == True:\n",
    "            bothAnchorsIndexes.append(i)\n",
    "            singleAnchorCount+=1\n",
    "        elif anchor1 == True or anchor2 == True:\n",
    "            singleAnchorCount+=1\n",
    "    return bothAnchorsIndexes, singleAnchorCount"
   ]
  },
  {
   "cell_type": "code",
   "execution_count": 12,
   "metadata": {},
   "outputs": [],
   "source": [
    "def applyGetAnchors(loop,peaks):\n",
    "    anchor1=False\n",
    "    anchor2=False\n",
    "    sameChromosome = peaks[peaks['Chromosome']==loop['#chr1']]\n",
    "    x1=sameChromosome[sameChromosome['Start']>=loop['x1']]\n",
    "    x2=x1[x1['End']<=loop['x2']]\n",
    "    if len(x2) > 0:\n",
    "        anchor1=True\n",
    "    sameChromosome = peaks[peaks['Chromosome']==loop['chr2']]\n",
    "    x1=sameChromosome[sameChromosome['Start']>=loop['y1']]\n",
    "    x2=x1[x1['End']<=loop['y2']]\n",
    "    if len(x2) > 0:\n",
    "        anchor2=True\n",
    "    if anchor1 == True and anchor2 == True:\n",
    "        return loop"
   ]
  },
  {
   "cell_type": "code",
   "execution_count": 14,
   "metadata": {},
   "outputs": [],
   "source": [
    "peakLoopHicLCtcfPPairs,peakLoopHicLCtcfPSingleAnchorCount = getAnchors(hicLoops,ctcfPeaks)\n",
    "with open(\"peakLoopHicLCtcfPPairs\", \"wb\") as f:\n",
    "    pickle.dump(peakLoopHicLCtcfPPairs, f)\n",
    "with open(\"peakLoopHicLCtcfPSingleAnchorCount\", \"wb\") as f:\n",
    "    pickle.dump(peakLoopHicLCtcfPSingleAnchorCount, f)"
   ]
  },
  {
   "cell_type": "code",
   "execution_count": 63,
   "metadata": {},
   "outputs": [],
   "source": [
    "peakLoopHicLRad21PPairs,peakLoopHicLRad21PSingleAnchorCount = getAnchors(hicLoops,rad21Peaks)\n",
    "with open(\"peakLoopHicLRad21PPairs\", \"wb\") as f:\n",
    "    pickle.dump(peakLoopHicLRad21PPairs, f)\n",
    "with open(\"peakLoopHicLRad21PSingleAnchorCount\", \"wb\") as f:\n",
    "    pickle.dump(peakLoopHicLRad21PSingleAnchorCount, f)"
   ]
  },
  {
   "cell_type": "code",
   "execution_count": 4,
   "metadata": {},
   "outputs": [],
   "source": [
    "peakLoopChiaLCtcfPPairs,peakLoopChiaLCtcfPSingleAnchorCount = getAnchors(chiaPetLoops,ctcfPeaks)\n",
    "with open(\"peakLoopChiaLCtcfPPairs\", \"wb\") as f:\n",
    "    pickle.dump(peakLoopChiaLCtcfPPairs, f)\n",
    "with open(\"peakLoopChiaLCtcfPSingleAnchorCount\", \"wb\") as f:\n",
    "    pickle.dump(peakLoopChiaLCtcfPSingleAnchorCount, f)"
   ]
  },
  {
   "cell_type": "code",
   "execution_count": 5,
   "metadata": {},
   "outputs": [],
   "source": [
    "peakLoopChiaLRad21PPairs,peakLoopChiaLRad21PSingleAnchorCount = getAnchors(chiaPetLoops,rad21Peaks)\n",
    "with open(\"peakLoopChiaLRad21PPairs\", \"wb\") as f:\n",
    "    pickle.dump(peakLoopChiaLRad21PPairs, f)\n",
    "with open(\"peakLoopChiaLRad21PSingleAnchorCount\", \"wb\") as f:\n",
    "    pickle.dump(peakLoopChiaLRad21PSingleAnchorCount, f)"
   ]
  },
  {
   "cell_type": "markdown",
   "metadata": {},
   "source": [
    "Perform 4 comparisons between datasets. for two compared datasets (A and B) calculate how many loops from A match (**) some loop from B, and how many loops from B match some loop from A. You can present the result as a 2x2 table showing counts of total and matched loops for datasets."
   ]
  },
  {
   "cell_type": "code",
   "execution_count": 16,
   "metadata": {},
   "outputs": [],
   "source": [
    "with open(r\"peakLoopChiaLCtcfPPairs\", \"rb\") as input_file: # Chia LC\n",
    "     peakLoopChiaLCtcfPPairs = pickle.load(input_file)\n",
    "\n",
    "with open(r\"peakLoopHicLCtcfPPairs\", \"rb\") as input_file: # HIC LC\n",
    "     peakLoopHicLCtcfPPairs = pickle.load(input_file)\n",
    "\n",
    "with open(r\"peakLoopChiaLRad21PPairs\", \"rb\") as input_file: # CHIA Rad\n",
    "     peakLoopChiaLRad21PPairs = pickle.load(input_file)\n",
    "\n",
    "with open(r\"peakLoopHicLRad21PPairs\", \"rb\") as input_file: # Hic Rad\n",
    "     peakLoopHicLRad21PPairs = pickle.load(input_file)"
   ]
  },
  {
   "cell_type": "code",
   "execution_count": 17,
   "metadata": {},
   "outputs": [
    {
     "name": "stdout",
     "output_type": "stream",
     "text": [
      "0\n",
      "0\n"
     ]
    }
   ],
   "source": [
    "hicLcHicRadIndex = 0\n",
    "singleAnchorHicLcHicRadIndex = 0\n",
    "for hicLcIndex in peakLoopHicLCtcfPPairs:\n",
    "     for hicRadIndex in peakLoopHicLRad21PPairs:\n",
    "          if abs(hicLoops[hicLcIndex]['x1']-hicLoops[hicRadIndex]['x1'])<=1 and abs(hicLoops[hicLcIndex]['x2']-hicLoops[hicRadIndex]['x2'])<=1 and abs(hicLoops[hicLcIndex]['y1']-hicLoops[hicRadIndex]['y1'])<=1 and abs(hicLoops[hicLcIndex]['y2']-hicLoops[hicRadIndex]['y2'])<=1:\n",
    "               hicLcHicRadIndex+=1\n",
    "          # elif (abs(hicLoops[hicLcIndex]['x1']-hicLoops[hicRadIndex]['x1'])<=1 and abs(hicLoops[hicLcIndex]['x2']-hicLoops[hicRadIndex]['x2'])<=1) or(abs(hicLoops[hicLcIndex]['y1']-hicLoops[hicRadIndex]['y1'])<=1 and abs(hicLoops[hicLcIndex]['y2']-hicLoops[hicRadIndex]['y2'])<=1):\n",
    "               # singleAnchorHicLcHicRadIndex+=1\n",
    "print(hicLcHicRadIndex)\n",
    "# print(singleAnchorHicLcHicRadIndex)"
   ]
  },
  {
   "cell_type": "code",
   "execution_count": 18,
   "metadata": {},
   "outputs": [
    {
     "name": "stdout",
     "output_type": "stream",
     "text": [
      "7059\n"
     ]
    }
   ],
   "source": [
    "chiaLcChiaRadCount = 0\n",
    "singleAnchorChiaLcChiaRadCount = 0\n",
    "for chiaLcIndex in peakLoopChiaLCtcfPPairs:\n",
    "     for chiaLRadIndex in peakLoopChiaLRad21PPairs:\n",
    "          if abs(chiaPetLoops.iloc[chiaLcIndex]['x1']-chiaPetLoops.iloc[chiaLRadIndex]['x1'])<=1 and abs(chiaPetLoops.iloc[chiaLcIndex]['x2']-chiaPetLoops.iloc[chiaLRadIndex]['x2'])<=1 and abs(chiaPetLoops.iloc[chiaLcIndex]['y1']-chiaPetLoops.iloc[chiaLRadIndex]['y1'])<=1 and abs(chiaPetLoops.iloc[chiaLcIndex]['y2']-chiaPetLoops.iloc[chiaLRadIndex]['y2'])<=1:\n",
    "               chiaLcChiaRadCount+=1\n",
    "          # elif abs(chiaPetLoops.iloc[chiaLcIndex]['x1']-chiaPetLoops.iloc[chiaLRadIndex]['x1'])<=1 or abs(chiaPetLoops.iloc[chiaLcIndex]['x2']-chiaPetLoops.iloc[chiaLRadIndex]['x2'])<=1:\n",
    "            #   singleAnchorChiaLcChiaRadCount+=1\n",
    "print(chiaLcChiaRadCount)\n",
    "# print(singleAnchorChiaLcChiaRadCount)"
   ]
  },
  {
   "cell_type": "code",
   "execution_count": 22,
   "metadata": {},
   "outputs": [],
   "source": [
    "with open(r\"chiaLcChiaRadCount\", \"wb\") as input_file:\n",
    "     pickle.dump(chiaLcChiaRadCount,input_file)"
   ]
  },
  {
   "cell_type": "code",
   "execution_count": 24,
   "metadata": {},
   "outputs": [
    {
     "name": "stdout",
     "output_type": "stream",
     "text": [
      "0\n"
     ]
    }
   ],
   "source": [
    "chiaLcHicLcCount = 0\n",
    "singleAnchorChiaLcHicLcCount = 0\n",
    "for chiaLcIndex in peakLoopChiaLCtcfPPairs:\n",
    "     for hicLcIndex in peakLoopHicLCtcfPPairs:\n",
    "          if (abs(chiaPetLoops.iloc[chiaLcIndex]['x1']-hicLoops.iloc[hicLcIndex]['x1'])<=1 and abs(chiaPetLoops.iloc[chiaLcIndex]['x2']-hicLoops.iloc[hicLcIndex]['x2'])<=1) and (abs(chiaPetLoops.iloc[chiaLcIndex]['y1']-hicLoops.iloc[hicLcIndex]['y1'])<=1 and abs(chiaPetLoops.iloc[chiaLcIndex]['y2']-hicLoops.iloc[hicLcIndex]['y2'])<=1):\n",
    "               chiaLcHicLcCount+=1\n",
    "          # if abs(chiaPetLoops.iloc[chiaLcIndex[0]][0]-hicLoops.iloc[hicLcIndex[0]][0])<=1 or abs(chiaPetLoops.iloc[chiaLcIndex[0]][1]-hicLoops.iloc[hicLcIndex[0]][1])<=1:\n",
    "            #    singleAnchorChiaLcHicLcCount+=1\n",
    "print(chiaLcHicLcCount)\n",
    "# print(singleAnchorChiaLcHicLcCount)"
   ]
  },
  {
   "cell_type": "code",
   "execution_count": 25,
   "metadata": {},
   "outputs": [],
   "source": [
    "with open(r\"chiaLcHicLcCount\", \"wb\") as input_file:\n",
    "     pickle.dump(chiaLcHicLcCount,input_file)"
   ]
  },
  {
   "cell_type": "code",
   "execution_count": 28,
   "metadata": {},
   "outputs": [],
   "source": [
    "chiaLcRadHicCtcfCount = 0\n",
    "singleAnchorChiaLcHicRadCount = 0\n",
    "for chiaLcIndex in peakLoopChiaLRad21PPairs:\n",
    "     for hicRadIndex in peakLoopHicLCtcfPPairs:\n",
    "          if (abs(chiaPetLoops.iloc[chiaLcIndex]['x1']-hicLoops.iloc[hicRadIndex]['x1'])<=1 and abs(chiaPetLoops.iloc[chiaLcIndex]['x2']-hicLoops.iloc[hicRadIndex]['x2'])<=1) and (abs(chiaPetLoops.iloc[chiaLcIndex]['y1']-hicLoops.iloc[hicRadIndex]['y1'])<=1 and abs(chiaPetLoops.iloc[chiaLcIndex]['y2']-hicLoops.iloc[hicRadIndex]['y2'])<=1):\n",
    "               chiaLcRadHicCtcfCount+=1\n",
    "  #        if abs(chiaPetLoopsXArr[chiaLcIndex[0]][0]-hicLoopsXArr[hicRadIndex[0]][0])<=1 or abs(chiaPetLoopsXArr[chiaLcIndex[0]][1]-hicLoopsXArr[hicRadIndex[0]][1])<=1:\n",
    "   #            singleAnchorChiaLcHicRadCount+=1\n",
    "print(chiaLcRadHicCtcfCount)\n",
    "# print(singleAnchorChiaLcHicRadCount)"
   ]
  },
  {
   "cell_type": "code",
   "execution_count": null,
   "metadata": {},
   "outputs": [],
   "source": [
    "with open(r\"chiaLcRadHicCtcfCount\", \"wb\") as input_file:\n",
    "     pickle.dump(chiaLcRadHicCtcfCount,input_file)"
   ]
  },
  {
   "cell_type": "markdown",
   "metadata": {},
   "source": [
    "Make a visualization of a selected region (e.g. in IGV), choose something that looks nicely, zoom in enough so that you can see the peak locations. You can also include the loops matched between 2 datasets."
   ]
  }
 ],
 "metadata": {
  "kernelspec": {
   "display_name": "Python 3",
   "language": "python",
   "name": "python3"
  },
  "language_info": {
   "codemirror_mode": {
    "name": "ipython",
    "version": 3
   },
   "file_extension": ".py",
   "mimetype": "text/x-python",
   "name": "python",
   "nbconvert_exporter": "python",
   "pygments_lexer": "ipython3",
   "version": "3.12.2"
  }
 },
 "nbformat": 4,
 "nbformat_minor": 2
}
