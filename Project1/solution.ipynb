{
 "cells": [
  {
   "cell_type": "code",
   "execution_count": 1,
   "metadata": {},
   "outputs": [],
   "source": [
    "import pandas as pd\n",
    "import numpy as np\n",
    "import pyranges\n",
    "import pickle\n",
    "import os.path\n",
    "import seaborn as sns\n",
    "import matplotlib.pyplot as plt"
   ]
  },
  {
   "cell_type": "code",
   "execution_count": 2,
   "metadata": {},
   "outputs": [
    {
     "name": "stderr",
     "output_type": "stream",
     "text": [
      "c:\\Users\\Patryk\\AppData\\Local\\Programs\\Python\\Python311\\Lib\\site-packages\\pyranges\\methods\\init.py:45: FutureWarning: The default of observed=False is deprecated and will be changed to True in a future version of pandas. Pass observed=False to retain current behavior or observed=True to adopt the future default and silence this warning.\n",
      "  return {k: v for k, v in df.groupby(grpby_key)}\n",
      "c:\\Users\\Patryk\\AppData\\Local\\Programs\\Python\\Python311\\Lib\\site-packages\\pyranges\\methods\\init.py:45: FutureWarning: The default of observed=False is deprecated and will be changed to True in a future version of pandas. Pass observed=False to retain current behavior or observed=True to adopt the future default and silence this warning.\n",
      "  return {k: v for k, v in df.groupby(grpby_key)}\n"
     ]
    }
   ],
   "source": [
    "hicLoops = pd.read_csv('./Dataset/merged_loops.bedpe',delimiter='\\t')\n",
    "ctcfPeaks = pyranges.read_bed('./Dataset/ENCFF356LIU.bed').df\n",
    "chiaPetLoops = pd.read_csv('./Dataset/4DNFIS9CCN6R.bedpe',delimiter='\\t', header=None)\n",
    "rad21Peaks=pyranges.read_bed('./Dataset/ENCFF834GOT.bed').df\n",
    "\n",
    "hicLoops=hicLoops[1:]\n",
    "chiaPetLoops.columns = ['#chr1','x1','x2','chr2','y1','y2','?']"
   ]
  },
  {
   "cell_type": "code",
   "execution_count": 3,
   "metadata": {},
   "outputs": [
    {
     "data": {
      "text/html": [
       "<div>\n",
       "<style scoped>\n",
       "    .dataframe tbody tr th:only-of-type {\n",
       "        vertical-align: middle;\n",
       "    }\n",
       "\n",
       "    .dataframe tbody tr th {\n",
       "        vertical-align: top;\n",
       "    }\n",
       "\n",
       "    .dataframe thead th {\n",
       "        text-align: right;\n",
       "    }\n",
       "</style>\n",
       "<table border=\"1\" class=\"dataframe\">\n",
       "  <thead>\n",
       "    <tr style=\"text-align: right;\">\n",
       "      <th></th>\n",
       "      <th>x1</th>\n",
       "      <th>x2</th>\n",
       "      <th>y1</th>\n",
       "      <th>y2</th>\n",
       "      <th>observed</th>\n",
       "      <th>expectedBL</th>\n",
       "      <th>expectedDonut</th>\n",
       "      <th>expectedH</th>\n",
       "      <th>expectedV</th>\n",
       "      <th>fdrBL</th>\n",
       "      <th>fdrDonut</th>\n",
       "      <th>fdrH</th>\n",
       "      <th>fdrV</th>\n",
       "      <th>numCollapsed</th>\n",
       "      <th>centroid1</th>\n",
       "      <th>centroid2</th>\n",
       "      <th>radius</th>\n",
       "    </tr>\n",
       "  </thead>\n",
       "  <tbody>\n",
       "    <tr>\n",
       "      <th>count</th>\n",
       "      <td>1.523300e+04</td>\n",
       "      <td>1.523300e+04</td>\n",
       "      <td>1.523300e+04</td>\n",
       "      <td>1.523300e+04</td>\n",
       "      <td>15233.000000</td>\n",
       "      <td>15233.000000</td>\n",
       "      <td>15233.000000</td>\n",
       "      <td>15233.000000</td>\n",
       "      <td>15233.000000</td>\n",
       "      <td>1.523300e+04</td>\n",
       "      <td>1.523300e+04</td>\n",
       "      <td>1.523300e+04</td>\n",
       "      <td>1.523300e+04</td>\n",
       "      <td>15233.000000</td>\n",
       "      <td>1.523300e+04</td>\n",
       "      <td>1.523300e+04</td>\n",
       "      <td>15233.000000</td>\n",
       "    </tr>\n",
       "    <tr>\n",
       "      <th>mean</th>\n",
       "      <td>8.023923e+07</td>\n",
       "      <td>8.024604e+07</td>\n",
       "      <td>8.056954e+07</td>\n",
       "      <td>8.057634e+07</td>\n",
       "      <td>49.292851</td>\n",
       "      <td>14.441595</td>\n",
       "      <td>13.730485</td>\n",
       "      <td>16.156956</td>\n",
       "      <td>16.177253</td>\n",
       "      <td>1.515598e-03</td>\n",
       "      <td>8.044017e-04</td>\n",
       "      <td>3.837139e-03</td>\n",
       "      <td>3.918780e-03</td>\n",
       "      <td>3.421125</td>\n",
       "      <td>8.024247e+07</td>\n",
       "      <td>8.057295e+07</td>\n",
       "      <td>5258.220902</td>\n",
       "    </tr>\n",
       "    <tr>\n",
       "      <th>std</th>\n",
       "      <td>5.562852e+07</td>\n",
       "      <td>5.562856e+07</td>\n",
       "      <td>5.563722e+07</td>\n",
       "      <td>5.563726e+07</td>\n",
       "      <td>26.412381</td>\n",
       "      <td>11.156909</td>\n",
       "      <td>10.798754</td>\n",
       "      <td>12.620653</td>\n",
       "      <td>12.632769</td>\n",
       "      <td>6.722955e-03</td>\n",
       "      <td>4.786342e-03</td>\n",
       "      <td>1.191544e-02</td>\n",
       "      <td>1.214914e-02</td>\n",
       "      <td>3.157286</td>\n",
       "      <td>5.562852e+07</td>\n",
       "      <td>5.563730e+07</td>\n",
       "      <td>4993.398707</td>\n",
       "    </tr>\n",
       "    <tr>\n",
       "      <th>min</th>\n",
       "      <td>1.150000e+05</td>\n",
       "      <td>1.200000e+05</td>\n",
       "      <td>1.800000e+05</td>\n",
       "      <td>1.850000e+05</td>\n",
       "      <td>11.000000</td>\n",
       "      <td>0.012426</td>\n",
       "      <td>0.011332</td>\n",
       "      <td>0.000000</td>\n",
       "      <td>0.000000</td>\n",
       "      <td>0.000000e+00</td>\n",
       "      <td>0.000000e+00</td>\n",
       "      <td>0.000000e+00</td>\n",
       "      <td>0.000000e+00</td>\n",
       "      <td>1.000000</td>\n",
       "      <td>1.135000e+05</td>\n",
       "      <td>1.785000e+05</td>\n",
       "      <td>0.000000</td>\n",
       "    </tr>\n",
       "    <tr>\n",
       "      <th>25%</th>\n",
       "      <td>3.606000e+07</td>\n",
       "      <td>3.607000e+07</td>\n",
       "      <td>3.628000e+07</td>\n",
       "      <td>3.628500e+07</td>\n",
       "      <td>30.000000</td>\n",
       "      <td>6.784028</td>\n",
       "      <td>6.482804</td>\n",
       "      <td>7.728960</td>\n",
       "      <td>7.659216</td>\n",
       "      <td>3.707830e-11</td>\n",
       "      <td>1.158524e-11</td>\n",
       "      <td>3.541425e-09</td>\n",
       "      <td>3.695817e-09</td>\n",
       "      <td>1.000000</td>\n",
       "      <td>3.606500e+07</td>\n",
       "      <td>3.628250e+07</td>\n",
       "      <td>0.000000</td>\n",
       "    </tr>\n",
       "    <tr>\n",
       "      <th>50%</th>\n",
       "      <td>7.008500e+07</td>\n",
       "      <td>7.009000e+07</td>\n",
       "      <td>7.048000e+07</td>\n",
       "      <td>7.049000e+07</td>\n",
       "      <td>43.000000</td>\n",
       "      <td>11.354755</td>\n",
       "      <td>10.619547</td>\n",
       "      <td>12.668986</td>\n",
       "      <td>12.811413</td>\n",
       "      <td>9.370300e-07</td>\n",
       "      <td>3.542509e-07</td>\n",
       "      <td>2.030877e-05</td>\n",
       "      <td>2.222786e-05</td>\n",
       "      <td>2.000000</td>\n",
       "      <td>7.009000e+07</td>\n",
       "      <td>7.048500e+07</td>\n",
       "      <td>5000.000000</td>\n",
       "    </tr>\n",
       "    <tr>\n",
       "      <th>75%</th>\n",
       "      <td>1.158700e+08</td>\n",
       "      <td>1.158800e+08</td>\n",
       "      <td>1.162300e+08</td>\n",
       "      <td>1.162400e+08</td>\n",
       "      <td>61.000000</td>\n",
       "      <td>18.363478</td>\n",
       "      <td>17.439386</td>\n",
       "      <td>20.525497</td>\n",
       "      <td>20.593340</td>\n",
       "      <td>1.513941e-04</td>\n",
       "      <td>5.098404e-05</td>\n",
       "      <td>1.285796e-03</td>\n",
       "      <td>1.222071e-03</td>\n",
       "      <td>4.000000</td>\n",
       "      <td>1.158738e+08</td>\n",
       "      <td>1.162400e+08</td>\n",
       "      <td>8221.000000</td>\n",
       "    </tr>\n",
       "    <tr>\n",
       "      <th>max</th>\n",
       "      <td>2.474400e+08</td>\n",
       "      <td>2.474450e+08</td>\n",
       "      <td>2.475700e+08</td>\n",
       "      <td>2.475800e+08</td>\n",
       "      <td>271.000000</td>\n",
       "      <td>98.571365</td>\n",
       "      <td>92.682210</td>\n",
       "      <td>112.373390</td>\n",
       "      <td>115.471070</td>\n",
       "      <td>9.179866e-02</td>\n",
       "      <td>8.108640e-02</td>\n",
       "      <td>9.565513e-02</td>\n",
       "      <td>9.604326e-02</td>\n",
       "      <td>26.000000</td>\n",
       "      <td>2.474425e+08</td>\n",
       "      <td>2.475750e+08</td>\n",
       "      <td>51271.000000</td>\n",
       "    </tr>\n",
       "  </tbody>\n",
       "</table>\n",
       "</div>"
      ],
      "text/plain": [
       "                 x1            x2            y1            y2      observed  \\\n",
       "count  1.523300e+04  1.523300e+04  1.523300e+04  1.523300e+04  15233.000000   \n",
       "mean   8.023923e+07  8.024604e+07  8.056954e+07  8.057634e+07     49.292851   \n",
       "std    5.562852e+07  5.562856e+07  5.563722e+07  5.563726e+07     26.412381   \n",
       "min    1.150000e+05  1.200000e+05  1.800000e+05  1.850000e+05     11.000000   \n",
       "25%    3.606000e+07  3.607000e+07  3.628000e+07  3.628500e+07     30.000000   \n",
       "50%    7.008500e+07  7.009000e+07  7.048000e+07  7.049000e+07     43.000000   \n",
       "75%    1.158700e+08  1.158800e+08  1.162300e+08  1.162400e+08     61.000000   \n",
       "max    2.474400e+08  2.474450e+08  2.475700e+08  2.475800e+08    271.000000   \n",
       "\n",
       "         expectedBL  expectedDonut     expectedH     expectedV         fdrBL  \\\n",
       "count  15233.000000   15233.000000  15233.000000  15233.000000  1.523300e+04   \n",
       "mean      14.441595      13.730485     16.156956     16.177253  1.515598e-03   \n",
       "std       11.156909      10.798754     12.620653     12.632769  6.722955e-03   \n",
       "min        0.012426       0.011332      0.000000      0.000000  0.000000e+00   \n",
       "25%        6.784028       6.482804      7.728960      7.659216  3.707830e-11   \n",
       "50%       11.354755      10.619547     12.668986     12.811413  9.370300e-07   \n",
       "75%       18.363478      17.439386     20.525497     20.593340  1.513941e-04   \n",
       "max       98.571365      92.682210    112.373390    115.471070  9.179866e-02   \n",
       "\n",
       "           fdrDonut          fdrH          fdrV  numCollapsed     centroid1  \\\n",
       "count  1.523300e+04  1.523300e+04  1.523300e+04  15233.000000  1.523300e+04   \n",
       "mean   8.044017e-04  3.837139e-03  3.918780e-03      3.421125  8.024247e+07   \n",
       "std    4.786342e-03  1.191544e-02  1.214914e-02      3.157286  5.562852e+07   \n",
       "min    0.000000e+00  0.000000e+00  0.000000e+00      1.000000  1.135000e+05   \n",
       "25%    1.158524e-11  3.541425e-09  3.695817e-09      1.000000  3.606500e+07   \n",
       "50%    3.542509e-07  2.030877e-05  2.222786e-05      2.000000  7.009000e+07   \n",
       "75%    5.098404e-05  1.285796e-03  1.222071e-03      4.000000  1.158738e+08   \n",
       "max    8.108640e-02  9.565513e-02  9.604326e-02     26.000000  2.474425e+08   \n",
       "\n",
       "          centroid2        radius  \n",
       "count  1.523300e+04  15233.000000  \n",
       "mean   8.057295e+07   5258.220902  \n",
       "std    5.563730e+07   4993.398707  \n",
       "min    1.785000e+05      0.000000  \n",
       "25%    3.628250e+07      0.000000  \n",
       "50%    7.048500e+07   5000.000000  \n",
       "75%    1.162400e+08   8221.000000  \n",
       "max    2.475750e+08  51271.000000  "
      ]
     },
     "execution_count": 3,
     "metadata": {},
     "output_type": "execute_result"
    }
   ],
   "source": [
    "hicLoops.describe()"
   ]
  },
  {
   "cell_type": "code",
   "execution_count": 4,
   "metadata": {},
   "outputs": [
    {
     "data": {
      "text/html": [
       "<div>\n",
       "<style scoped>\n",
       "    .dataframe tbody tr th:only-of-type {\n",
       "        vertical-align: middle;\n",
       "    }\n",
       "\n",
       "    .dataframe tbody tr th {\n",
       "        vertical-align: top;\n",
       "    }\n",
       "\n",
       "    .dataframe thead th {\n",
       "        text-align: right;\n",
       "    }\n",
       "</style>\n",
       "<table border=\"1\" class=\"dataframe\">\n",
       "  <thead>\n",
       "    <tr style=\"text-align: right;\">\n",
       "      <th></th>\n",
       "      <th>Start</th>\n",
       "      <th>End</th>\n",
       "      <th>Score</th>\n",
       "      <th>ThickStart</th>\n",
       "      <th>ThickEnd</th>\n",
       "      <th>ItemRGB</th>\n",
       "      <th>BlockCount</th>\n",
       "    </tr>\n",
       "  </thead>\n",
       "  <tbody>\n",
       "    <tr>\n",
       "      <th>count</th>\n",
       "      <td>4.094900e+04</td>\n",
       "      <td>4.094900e+04</td>\n",
       "      <td>40949.000000</td>\n",
       "      <td>40949.000000</td>\n",
       "      <td>40949.0</td>\n",
       "      <td>40949.000000</td>\n",
       "      <td>40949.000000</td>\n",
       "    </tr>\n",
       "    <tr>\n",
       "      <th>mean</th>\n",
       "      <td>7.831949e+07</td>\n",
       "      <td>7.831980e+07</td>\n",
       "      <td>961.238834</td>\n",
       "      <td>73.253416</td>\n",
       "      <td>-1.0</td>\n",
       "      <td>4.246728</td>\n",
       "      <td>154.052187</td>\n",
       "    </tr>\n",
       "    <tr>\n",
       "      <th>std</th>\n",
       "      <td>5.596081e+07</td>\n",
       "      <td>5.596081e+07</td>\n",
       "      <td>103.619231</td>\n",
       "      <td>56.206305</td>\n",
       "      <td>0.0</td>\n",
       "      <td>0.924962</td>\n",
       "      <td>40.835497</td>\n",
       "    </tr>\n",
       "    <tr>\n",
       "      <th>min</th>\n",
       "      <td>1.144400e+04</td>\n",
       "      <td>1.179400e+04</td>\n",
       "      <td>537.000000</td>\n",
       "      <td>3.891950</td>\n",
       "      <td>-1.0</td>\n",
       "      <td>-0.142540</td>\n",
       "      <td>1.000000</td>\n",
       "    </tr>\n",
       "    <tr>\n",
       "      <th>25%</th>\n",
       "      <td>3.378754e+07</td>\n",
       "      <td>3.378769e+07</td>\n",
       "      <td>1000.000000</td>\n",
       "      <td>26.886680</td>\n",
       "      <td>-1.0</td>\n",
       "      <td>4.252250</td>\n",
       "      <td>175.000000</td>\n",
       "    </tr>\n",
       "    <tr>\n",
       "      <th>50%</th>\n",
       "      <td>6.739370e+07</td>\n",
       "      <td>6.739406e+07</td>\n",
       "      <td>1000.000000</td>\n",
       "      <td>56.959440</td>\n",
       "      <td>-1.0</td>\n",
       "      <td>4.690030</td>\n",
       "      <td>175.000000</td>\n",
       "    </tr>\n",
       "    <tr>\n",
       "      <th>75%</th>\n",
       "      <td>1.155417e+08</td>\n",
       "      <td>1.155420e+08</td>\n",
       "      <td>1000.000000</td>\n",
       "      <td>108.935150</td>\n",
       "      <td>-1.0</td>\n",
       "      <td>4.690030</td>\n",
       "      <td>175.000000</td>\n",
       "    </tr>\n",
       "    <tr>\n",
       "      <th>max</th>\n",
       "      <td>2.489248e+08</td>\n",
       "      <td>2.489251e+08</td>\n",
       "      <td>1000.000000</td>\n",
       "      <td>493.698390</td>\n",
       "      <td>-1.0</td>\n",
       "      <td>4.690030</td>\n",
       "      <td>460.000000</td>\n",
       "    </tr>\n",
       "  </tbody>\n",
       "</table>\n",
       "</div>"
      ],
      "text/plain": [
       "              Start           End         Score    ThickStart  ThickEnd  \\\n",
       "count  4.094900e+04  4.094900e+04  40949.000000  40949.000000   40949.0   \n",
       "mean   7.831949e+07  7.831980e+07    961.238834     73.253416      -1.0   \n",
       "std    5.596081e+07  5.596081e+07    103.619231     56.206305       0.0   \n",
       "min    1.144400e+04  1.179400e+04    537.000000      3.891950      -1.0   \n",
       "25%    3.378754e+07  3.378769e+07   1000.000000     26.886680      -1.0   \n",
       "50%    6.739370e+07  6.739406e+07   1000.000000     56.959440      -1.0   \n",
       "75%    1.155417e+08  1.155420e+08   1000.000000    108.935150      -1.0   \n",
       "max    2.489248e+08  2.489251e+08   1000.000000    493.698390      -1.0   \n",
       "\n",
       "            ItemRGB    BlockCount  \n",
       "count  40949.000000  40949.000000  \n",
       "mean       4.246728    154.052187  \n",
       "std        0.924962     40.835497  \n",
       "min       -0.142540      1.000000  \n",
       "25%        4.252250    175.000000  \n",
       "50%        4.690030    175.000000  \n",
       "75%        4.690030    175.000000  \n",
       "max        4.690030    460.000000  "
      ]
     },
     "execution_count": 4,
     "metadata": {},
     "output_type": "execute_result"
    }
   ],
   "source": [
    "ctcfPeaks.describe()"
   ]
  },
  {
   "cell_type": "code",
   "execution_count": 5,
   "metadata": {},
   "outputs": [
    {
     "data": {
      "text/html": [
       "<div>\n",
       "<style scoped>\n",
       "    .dataframe tbody tr th:only-of-type {\n",
       "        vertical-align: middle;\n",
       "    }\n",
       "\n",
       "    .dataframe tbody tr th {\n",
       "        vertical-align: top;\n",
       "    }\n",
       "\n",
       "    .dataframe thead th {\n",
       "        text-align: right;\n",
       "    }\n",
       "</style>\n",
       "<table border=\"1\" class=\"dataframe\">\n",
       "  <thead>\n",
       "    <tr style=\"text-align: right;\">\n",
       "      <th></th>\n",
       "      <th>x1</th>\n",
       "      <th>x2</th>\n",
       "      <th>y1</th>\n",
       "      <th>y2</th>\n",
       "      <th>?</th>\n",
       "    </tr>\n",
       "  </thead>\n",
       "  <tbody>\n",
       "    <tr>\n",
       "      <th>count</th>\n",
       "      <td>5.815083e+06</td>\n",
       "      <td>5.815083e+06</td>\n",
       "      <td>5.815083e+06</td>\n",
       "      <td>5.815083e+06</td>\n",
       "      <td>5.815083e+06</td>\n",
       "    </tr>\n",
       "    <tr>\n",
       "      <th>mean</th>\n",
       "      <td>7.780002e+07</td>\n",
       "      <td>7.780060e+07</td>\n",
       "      <td>8.380769e+07</td>\n",
       "      <td>8.380828e+07</td>\n",
       "      <td>1.223357e+00</td>\n",
       "    </tr>\n",
       "    <tr>\n",
       "      <th>std</th>\n",
       "      <td>5.542503e+07</td>\n",
       "      <td>5.542503e+07</td>\n",
       "      <td>5.649045e+07</td>\n",
       "      <td>5.649044e+07</td>\n",
       "      <td>1.361738e+00</td>\n",
       "    </tr>\n",
       "    <tr>\n",
       "      <th>min</th>\n",
       "      <td>0.000000e+00</td>\n",
       "      <td>1.320000e+02</td>\n",
       "      <td>7.642000e+03</td>\n",
       "      <td>8.559000e+03</td>\n",
       "      <td>1.000000e+00</td>\n",
       "    </tr>\n",
       "    <tr>\n",
       "      <th>25%</th>\n",
       "      <td>3.330289e+07</td>\n",
       "      <td>3.330345e+07</td>\n",
       "      <td>3.827097e+07</td>\n",
       "      <td>3.827151e+07</td>\n",
       "      <td>1.000000e+00</td>\n",
       "    </tr>\n",
       "    <tr>\n",
       "      <th>50%</th>\n",
       "      <td>6.742149e+07</td>\n",
       "      <td>6.742206e+07</td>\n",
       "      <td>7.406263e+07</td>\n",
       "      <td>7.406324e+07</td>\n",
       "      <td>1.000000e+00</td>\n",
       "    </tr>\n",
       "    <tr>\n",
       "      <th>75%</th>\n",
       "      <td>1.134992e+08</td>\n",
       "      <td>1.134999e+08</td>\n",
       "      <td>1.209587e+08</td>\n",
       "      <td>1.209593e+08</td>\n",
       "      <td>1.000000e+00</td>\n",
       "    </tr>\n",
       "    <tr>\n",
       "      <th>max</th>\n",
       "      <td>2.489168e+08</td>\n",
       "      <td>2.489174e+08</td>\n",
       "      <td>2.489342e+08</td>\n",
       "      <td>2.489348e+08</td>\n",
       "      <td>1.898000e+03</td>\n",
       "    </tr>\n",
       "  </tbody>\n",
       "</table>\n",
       "</div>"
      ],
      "text/plain": [
       "                 x1            x2            y1            y2             ?\n",
       "count  5.815083e+06  5.815083e+06  5.815083e+06  5.815083e+06  5.815083e+06\n",
       "mean   7.780002e+07  7.780060e+07  8.380769e+07  8.380828e+07  1.223357e+00\n",
       "std    5.542503e+07  5.542503e+07  5.649045e+07  5.649044e+07  1.361738e+00\n",
       "min    0.000000e+00  1.320000e+02  7.642000e+03  8.559000e+03  1.000000e+00\n",
       "25%    3.330289e+07  3.330345e+07  3.827097e+07  3.827151e+07  1.000000e+00\n",
       "50%    6.742149e+07  6.742206e+07  7.406263e+07  7.406324e+07  1.000000e+00\n",
       "75%    1.134992e+08  1.134999e+08  1.209587e+08  1.209593e+08  1.000000e+00\n",
       "max    2.489168e+08  2.489174e+08  2.489342e+08  2.489348e+08  1.898000e+03"
      ]
     },
     "execution_count": 5,
     "metadata": {},
     "output_type": "execute_result"
    }
   ],
   "source": [
    "chiaPetLoops.describe()"
   ]
  },
  {
   "cell_type": "code",
   "execution_count": 6,
   "metadata": {},
   "outputs": [
    {
     "data": {
      "text/html": [
       "<div>\n",
       "<style scoped>\n",
       "    .dataframe tbody tr th:only-of-type {\n",
       "        vertical-align: middle;\n",
       "    }\n",
       "\n",
       "    .dataframe tbody tr th {\n",
       "        vertical-align: top;\n",
       "    }\n",
       "\n",
       "    .dataframe thead th {\n",
       "        text-align: right;\n",
       "    }\n",
       "</style>\n",
       "<table border=\"1\" class=\"dataframe\">\n",
       "  <thead>\n",
       "    <tr style=\"text-align: right;\">\n",
       "      <th></th>\n",
       "      <th>Start</th>\n",
       "      <th>End</th>\n",
       "      <th>Score</th>\n",
       "      <th>ThickStart</th>\n",
       "      <th>ThickEnd</th>\n",
       "      <th>ItemRGB</th>\n",
       "      <th>BlockCount</th>\n",
       "    </tr>\n",
       "  </thead>\n",
       "  <tbody>\n",
       "    <tr>\n",
       "      <th>count</th>\n",
       "      <td>3.462300e+04</td>\n",
       "      <td>3.462300e+04</td>\n",
       "      <td>34623.000000</td>\n",
       "      <td>34623.000000</td>\n",
       "      <td>34623.0</td>\n",
       "      <td>34623.000000</td>\n",
       "      <td>34623.000000</td>\n",
       "    </tr>\n",
       "    <tr>\n",
       "      <th>mean</th>\n",
       "      <td>7.850383e+07</td>\n",
       "      <td>7.850407e+07</td>\n",
       "      <td>944.956849</td>\n",
       "      <td>61.054135</td>\n",
       "      <td>-1.0</td>\n",
       "      <td>3.738735</td>\n",
       "      <td>118.721255</td>\n",
       "    </tr>\n",
       "    <tr>\n",
       "      <th>std</th>\n",
       "      <td>5.574411e+07</td>\n",
       "      <td>5.574411e+07</td>\n",
       "      <td>122.152293</td>\n",
       "      <td>48.439246</td>\n",
       "      <td>0.0</td>\n",
       "      <td>0.878939</td>\n",
       "      <td>28.875827</td>\n",
       "    </tr>\n",
       "    <tr>\n",
       "      <th>min</th>\n",
       "      <td>1.870400e+04</td>\n",
       "      <td>1.896800e+04</td>\n",
       "      <td>540.000000</td>\n",
       "      <td>4.231500</td>\n",
       "      <td>-1.0</td>\n",
       "      <td>-0.015850</td>\n",
       "      <td>1.000000</td>\n",
       "    </tr>\n",
       "    <tr>\n",
       "      <th>25%</th>\n",
       "      <td>3.396428e+07</td>\n",
       "      <td>3.396454e+07</td>\n",
       "      <td>1000.000000</td>\n",
       "      <td>22.078885</td>\n",
       "      <td>-1.0</td>\n",
       "      <td>3.313005</td>\n",
       "      <td>132.000000</td>\n",
       "    </tr>\n",
       "    <tr>\n",
       "      <th>50%</th>\n",
       "      <td>6.820523e+07</td>\n",
       "      <td>6.820550e+07</td>\n",
       "      <td>1000.000000</td>\n",
       "      <td>44.551970</td>\n",
       "      <td>-1.0</td>\n",
       "      <td>3.827920</td>\n",
       "      <td>132.000000</td>\n",
       "    </tr>\n",
       "    <tr>\n",
       "      <th>75%</th>\n",
       "      <td>1.144681e+08</td>\n",
       "      <td>1.144683e+08</td>\n",
       "      <td>1000.000000</td>\n",
       "      <td>88.545570</td>\n",
       "      <td>-1.0</td>\n",
       "      <td>4.491820</td>\n",
       "      <td>132.000000</td>\n",
       "    </tr>\n",
       "    <tr>\n",
       "      <th>max</th>\n",
       "      <td>2.489248e+08</td>\n",
       "      <td>2.489250e+08</td>\n",
       "      <td>1000.000000</td>\n",
       "      <td>334.213290</td>\n",
       "      <td>-1.0</td>\n",
       "      <td>4.491820</td>\n",
       "      <td>164.000000</td>\n",
       "    </tr>\n",
       "  </tbody>\n",
       "</table>\n",
       "</div>"
      ],
      "text/plain": [
       "              Start           End         Score    ThickStart  ThickEnd  \\\n",
       "count  3.462300e+04  3.462300e+04  34623.000000  34623.000000   34623.0   \n",
       "mean   7.850383e+07  7.850407e+07    944.956849     61.054135      -1.0   \n",
       "std    5.574411e+07  5.574411e+07    122.152293     48.439246       0.0   \n",
       "min    1.870400e+04  1.896800e+04    540.000000      4.231500      -1.0   \n",
       "25%    3.396428e+07  3.396454e+07   1000.000000     22.078885      -1.0   \n",
       "50%    6.820523e+07  6.820550e+07   1000.000000     44.551970      -1.0   \n",
       "75%    1.144681e+08  1.144683e+08   1000.000000     88.545570      -1.0   \n",
       "max    2.489248e+08  2.489250e+08   1000.000000    334.213290      -1.0   \n",
       "\n",
       "            ItemRGB    BlockCount  \n",
       "count  34623.000000  34623.000000  \n",
       "mean       3.738735    118.721255  \n",
       "std        0.878939     28.875827  \n",
       "min       -0.015850      1.000000  \n",
       "25%        3.313005    132.000000  \n",
       "50%        3.827920    132.000000  \n",
       "75%        4.491820    132.000000  \n",
       "max        4.491820    164.000000  "
      ]
     },
     "execution_count": 6,
     "metadata": {},
     "output_type": "execute_result"
    }
   ],
   "source": [
    "rad21Peaks.describe()"
   ]
  },
  {
   "cell_type": "code",
   "execution_count": 7,
   "metadata": {},
   "outputs": [],
   "source": [
    "ctcfPeaks['Chromosome']=ctcfPeaks['Chromosome'].apply(lambda x: x.removeprefix('chr'))\n",
    "rad21Peaks['Chromosome']=rad21Peaks['Chromosome'].apply(lambda x: x.removeprefix('chr'))\n",
    "chiaPetLoops['#chr1']=chiaPetLoops['#chr1'].apply(lambda x: x.removeprefix('chr'))\n",
    "chiaPetLoops['chr2']=chiaPetLoops['chr2'].apply(lambda x: x.removeprefix('chr'))"
   ]
  },
  {
   "cell_type": "code",
   "execution_count": 8,
   "metadata": {},
   "outputs": [
    {
     "name": "stdout",
     "output_type": "stream",
     "text": [
      "  Chromosome      Start        End Name  Score Strand  ThickStart  ThickEnd  \\\n",
      "0          1  177429483  177429833    .    611      .     3.96905      -1.0   \n",
      "1          1   84224251   84224601    .    855      .     3.99064      -1.0   \n",
      "2          1  236425556  236425906    .    668      .     4.03628      -1.0   \n",
      "3          1    6634797    6635147    .   1000      .     4.17682      -1.0   \n",
      "4          1  154478854  154479204    .   1000      .     4.18657      -1.0   \n",
      "\n",
      "   ItemRGB  BlockCount  \n",
      "0 -0.12232         175  \n",
      "1 -0.11580         175  \n",
      "2 -0.12009         175  \n",
      "3 -0.12427         175  \n",
      "4 -0.12400         175  \n",
      "  Chromosome      Start        End Name  Score Strand  ThickStart  ThickEnd  \\\n",
      "0          1   93814064   93814272    .   1000      .   267.49725      -1.0   \n",
      "1          1  119367581  119367784    .   1000      .   256.48546      -1.0   \n",
      "2          1   23544795   23544995    .   1000      .   253.97355      -1.0   \n",
      "3          1   11037696   11037897    .   1000      .   245.81208      -1.0   \n",
      "4          1   93629577   93629769    .   1000      .   245.43445      -1.0   \n",
      "\n",
      "   ItemRGB  BlockCount  \n",
      "0  4.49182         111  \n",
      "1  4.49182         111  \n",
      "2  4.49182         113  \n",
      "3  4.49182          86  \n",
      "4  4.49182          93  \n",
      "  #chr1     x1     x2 chr2        y1        y2  ?\n",
      "0    10  49043  49694   10   1596907   1597444  1\n",
      "1    10  49291  49814   10  71061105  71061664  1\n",
      "2    10  50096  50747   10  19437275  19437902  2\n",
      "3    10  52377  52917   10     78536     79151  1\n",
      "4    10  52428  53079   10    806777    807334  1\n",
      "  #chr1           x1           x2 chr2           y1           y2 name score  \\\n",
      "1    10   60880000.0   60890000.0   10   60960000.0   60970000.0    .     .   \n",
      "2    10  131900000.0  131910000.0   10  131980000.0  131990000.0    .     .   \n",
      "3    10   71720000.0   71730000.0   10   71810000.0   71820000.0    .     .   \n",
      "4    10   62610000.0   62620000.0   10   62730000.0   62740000.0    .     .   \n",
      "5    10   26780000.0   26790000.0   10   26850000.0   26860000.0    .     .   \n",
      "\n",
      "  strand1 strand2  ...  expectedH  expectedV         fdrBL      fdrDonut  \\\n",
      "1       .       .  ...  29.857151  34.565178  5.510599e-06  3.417617e-03   \n",
      "2       .       .  ...  47.551224  38.399870  4.084538e-06  5.531278e-03   \n",
      "3       .       .  ...  56.117943  43.748466  2.594937e-06  2.825991e-06   \n",
      "4       .       .  ...  72.266400  52.050930  6.261819e-07  7.079455e-07   \n",
      "5       .       .  ...  65.557430  90.107475  3.840393e-07  4.753292e-07   \n",
      "\n",
      "           fdrH          fdrV  numCollapsed    centroid1    centroid2   radius  \n",
      "1  6.518073e-06  4.352302e-03           1.0   60885000.0   60965000.0      0.0  \n",
      "2  6.420658e-03  5.203196e-06           2.0  131905000.0  131980000.0   5000.0  \n",
      "3  8.173968e-03  3.346481e-06           2.0   71715000.0   71815000.0  10000.0  \n",
      "4  5.628446e-03  7.618980e-07           1.0   62615000.0   62735000.0      0.0  \n",
      "5  5.291055e-07  9.047872e-03           1.0   26785000.0   26855000.0      0.0  \n",
      "\n",
      "[5 rows x 24 columns]\n"
     ]
    }
   ],
   "source": [
    "print(ctcfPeaks.head())\n",
    "print(rad21Peaks.head())\n",
    "print(chiaPetLoops.head())\n",
    "print(hicLoops.head())"
   ]
  },
  {
   "cell_type": "markdown",
   "metadata": {},
   "source": [
    "1. Given a loop, consider chr1, x1, x2, chr2, y1, y2\n",
    "2. For each row check whether a matching peak has an anchor in chr1 or chr2 or both"
   ]
  },
  {
   "cell_type": "code",
   "execution_count": 21,
   "metadata": {},
   "outputs": [],
   "source": [
    "def getAnchors(loops,peaks):\n",
    "    bothAnchorsIndexes = []\n",
    "    singleAnchorCount=0\n",
    "    for i,loop in loops.iterrows():\n",
    "        anchor1=False\n",
    "        anchor2=False\n",
    "        sameChromosome = peaks[peaks['Chromosome']==loop['#chr1']]\n",
    "\n",
    "        \n",
    "\n",
    "        x1=sameChromosome[sameChromosome['Start']>=loop['x1']]\n",
    "        x2=x1[x1['Start']<=loop['x2']]\n",
    "        \n",
    "        x1 = x2[x2['End']>=loop['x1']]\n",
    "        x2 = x1[x1['End']<=loop['x2']]\n",
    "\n",
    "        if len(x2) > 0:\n",
    "\n",
    "            anchor1=True\n",
    "        \"\"\" else:\n",
    "            x1=sameChromosome[sameChromosome['End']>=loop['x1']]\n",
    "            x2=x1[x1['End']<=loop['x2']]\n",
    "            if len(x2) > 0:\n",
    "                anchor1=True \"\"\"\n",
    "\n",
    "\n",
    "        sameChromosome = peaks[peaks['Chromosome']==loop['chr2']]\n",
    "        x1=sameChromosome[sameChromosome['Start']>=loop['y1']]\n",
    "        x2=x1[x1['Start']<=loop['y2']]\n",
    "\n",
    "        x1 = x2[x2['End']>=loop['y1']]\n",
    "        x2 = x1[x1['End']<=loop['y2']]\n",
    "\n",
    "        if len(x2) > 0:\n",
    "            anchor2=True\n",
    "        \"\"\" else:\n",
    "            x1=sameChromosome[sameChromosome['End']>=loop['y1']]\n",
    "            x2=x1[x1['End']<=loop['y2']]\n",
    "            if len(x2) > 0:\n",
    "                anchor2=True\n",
    " \"\"\"\n",
    "\n",
    "\n",
    "        if anchor1 == True and anchor2 == True:\n",
    "            bothAnchorsIndexes.append(i)\n",
    "            singleAnchorCount+=1\n",
    "        elif anchor1 == True or anchor2 == True:\n",
    "            singleAnchorCount+=1\n",
    "    return bothAnchorsIndexes, singleAnchorCount"
   ]
  },
  {
   "cell_type": "code",
   "execution_count": 23,
   "metadata": {},
   "outputs": [],
   "source": [
    "peakLoopHicLCtcfPPairs,peakLoopHicLCtcfPSingleAnchorCount = getAnchors(hicLoops,ctcfPeaks)\n",
    "with open(\"peakLoopHicLCtcfPPairs\", \"wb\") as f:\n",
    "    pickle.dump(peakLoopHicLCtcfPPairs, f)\n",
    "with open(\"peakLoopHicLCtcfPSingleAnchorCount\", \"wb\") as f:\n",
    "    pickle.dump(peakLoopHicLCtcfPSingleAnchorCount, f)"
   ]
  },
  {
   "cell_type": "code",
   "execution_count": 24,
   "metadata": {},
   "outputs": [
    {
     "name": "stdout",
     "output_type": "stream",
     "text": [
      "8374\n"
     ]
    }
   ],
   "source": [
    "print(len(peakLoopHicLCtcfPPairs))"
   ]
  },
  {
   "cell_type": "code",
   "execution_count": 25,
   "metadata": {},
   "outputs": [],
   "source": [
    "peakLoopHicLRad21PPairs,peakLoopHicLRad21PSingleAnchorCount = getAnchors(hicLoops,rad21Peaks)\n",
    "with open(\"peakLoopHicLRad21PPairs\", \"wb\") as f:\n",
    "    pickle.dump(peakLoopHicLRad21PPairs, f)\n",
    "with open(\"peakLoopHicLRad21PSingleAnchorCount\", \"wb\") as f:\n",
    "    pickle.dump(peakLoopHicLRad21PSingleAnchorCount, f)"
   ]
  },
  {
   "cell_type": "code",
   "execution_count": 26,
   "metadata": {},
   "outputs": [
    {
     "name": "stdout",
     "output_type": "stream",
     "text": [
      "8377\n"
     ]
    }
   ],
   "source": [
    "print(len(peakLoopHicLRad21PPairs))"
   ]
  },
  {
   "cell_type": "code",
   "execution_count": 27,
   "metadata": {},
   "outputs": [],
   "source": [
    "peakLoopChiaLCtcfPPairs,peakLoopChiaLCtcfPSingleAnchorCount = getAnchors(chiaPetLoops,ctcfPeaks)\n",
    "with open(\"peakLoopChiaLCtcfPPairs\", \"wb\") as f:\n",
    "    pickle.dump(peakLoopChiaLCtcfPPairs, f)\n",
    "with open(\"peakLoopChiaLCtcfPSingleAnchorCount\", \"wb\") as f:\n",
    "    pickle.dump(peakLoopChiaLCtcfPSingleAnchorCount, f)"
   ]
  },
  {
   "cell_type": "code",
   "execution_count": 28,
   "metadata": {},
   "outputs": [
    {
     "name": "stdout",
     "output_type": "stream",
     "text": [
      "9520\n"
     ]
    }
   ],
   "source": [
    "print(len(peakLoopChiaLCtcfPPairs))"
   ]
  },
  {
   "cell_type": "code",
   "execution_count": 29,
   "metadata": {},
   "outputs": [],
   "source": [
    "peakLoopChiaLRad21PPairs,peakLoopChiaLRad21PSingleAnchorCount = getAnchors(chiaPetLoops,rad21Peaks)\n",
    "with open(\"peakLoopChiaLRad21PPairs\", \"wb\") as f:\n",
    "    pickle.dump(peakLoopChiaLRad21PPairs, f)\n",
    "with open(\"peakLoopChiaLRad21PSingleAnchorCount\", \"wb\") as f:\n",
    "    pickle.dump(peakLoopChiaLRad21PSingleAnchorCount, f)"
   ]
  },
  {
   "cell_type": "code",
   "execution_count": 30,
   "metadata": {},
   "outputs": [
    {
     "name": "stdout",
     "output_type": "stream",
     "text": [
      "9756\n"
     ]
    }
   ],
   "source": [
    "print(len(peakLoopChiaLRad21PPairs))"
   ]
  },
  {
   "cell_type": "markdown",
   "metadata": {},
   "source": [
    "Perform 4 comparisons between datasets. for two compared datasets (A and B) calculate how many loops from A match (**) some loop from B, and how many loops from B match some loop from A. You can present the result as a 2x2 table showing counts of total and matched loops for datasets."
   ]
  },
  {
   "cell_type": "code",
   "execution_count": 11,
   "metadata": {},
   "outputs": [],
   "source": [
    "with open(r\"peakLoopChiaLCtcfPPairs\", \"rb\") as input_file: # Chia Ctcf\n",
    "     peakLoopChiaLCtcfPPairs = pickle.load(input_file)\n",
    "\n",
    "with open(r\"peakLoopHicLCtcfPPairs\", \"rb\") as input_file: # HIC Ctcf\n",
    "     peakLoopHicLCtcfPPairs = pickle.load(input_file)\n",
    "\n",
    "with open(r\"peakLoopChiaLRad21PPairs\", \"rb\") as input_file: # CHIA Rad\n",
    "     peakLoopChiaLRad21PPairs = pickle.load(input_file)\n",
    "\n",
    "with open(r\"peakLoopHicLRad21PPairs\", \"rb\") as input_file: # Hic Rad\n",
    "     peakLoopHicLRad21PPairs = pickle.load(input_file)"
   ]
  },
  {
   "cell_type": "markdown",
   "metadata": {},
   "source": [
    "TODO:\n",
    "\n",
    "1. Add results for single anchors"
   ]
  },
  {
   "cell_type": "code",
   "execution_count": 12,
   "metadata": {},
   "outputs": [],
   "source": [
    "# Adjust index positions\n",
    "peakLoopChiaLCtcfPPairs=[x - 1 for x in peakLoopChiaLCtcfPPairs]\n",
    "peakLoopHicLCtcfPPairs=[x - 1 for x in peakLoopHicLCtcfPPairs]\n",
    "peakLoopChiaLRad21PPairs=[x - 1 for x in peakLoopChiaLRad21PPairs]\n",
    "peakLoopHicLRad21PPairs=[x - 1 for x in peakLoopHicLRad21PPairs]"
   ]
  },
  {
   "cell_type": "code",
   "execution_count": 13,
   "metadata": {},
   "outputs": [],
   "source": [
    "pairsIndexes = [{'loopDataset1':hicLoops,'loopDataset2':hicLoops,'filteredIndexes1':peakLoopHicLCtcfPPairs,'filteredIndexes2':peakLoopHicLRad21PPairs,'filename':'hicLcHicRadIndex'},\n",
    "                {'loopDataset1':chiaPetLoops,'loopDataset2':chiaPetLoops,'filteredIndexes1':peakLoopChiaLCtcfPPairs,'filteredIndexes2':peakLoopChiaLRad21PPairs, 'filename':'chiaLcChiaRadCount'},\n",
    "                {'loopDataset1':chiaPetLoops,'loopDataset2':hicLoops,'filteredIndexes1':peakLoopChiaLCtcfPPairs,'filteredIndexes2':peakLoopHicLCtcfPPairs,'filename':'chiaLcHicLcCount'},\n",
    "                {'loopDataset1':chiaPetLoops,'loopDataset2':hicLoops,'filteredIndexes1':peakLoopChiaLRad21PPairs,'filteredIndexes2':peakLoopHicLCtcfPPairs,'filename':'chiaRadHicLdCount'},\n",
    "                {'loopDataset1':chiaPetLoops,'loopDataset2':hicLoops,'filteredIndexes1':peakLoopChiaLRad21PPairs,'filteredIndexes2':peakLoopHicLRad21PPairs,'filename':'chiaLcRadHicRadCount'}]"
   ]
  },
  {
   "cell_type": "code",
   "execution_count": 14,
   "metadata": {},
   "outputs": [],
   "source": [
    "descriptions = [{'loop1':'Hic','peak1':'Ctcf','loop2':'Hic','peak2':'Rad21'},\n",
    "                {'loop1':'ChiaPet','peak1':'Ctcf','loop2':'ChiaPet','peak2':'Rad21'},\n",
    "                {'loop1':'ChiaPet','peak1':'Ctcf','loop2':'Hic','peak2':'Ctcf'},\n",
    "                {'loop1':'ChiaPet','peak1':'Rad21','loop2':'Hic','peak2':'Ctcf'},\n",
    "                {'loop1':'ChiaPet','peak1':'Rad21','loop2':'Hic','peak2':'Rad21'},\n",
    "             ]"
   ]
  },
  {
   "cell_type": "code",
   "execution_count": 15,
   "metadata": {},
   "outputs": [],
   "source": [
    "def compareFilteredLoops(loopDataset1, loopDataset2, filteredIndexes1, filteredIndexes2, filename, threshold):\n",
    "    countOfMatchedLoopsBothAnchors = 0\n",
    "    countOfMatchedLoopsAtLeastSingleAnchor = 0\n",
    "    for index1 in filteredIndexes1:\n",
    "        for index2 in filteredIndexes2:\n",
    "            if loopDataset1.iloc[index1]['#chr1']==loopDataset2.iloc[index2]['#chr1'] and loopDataset1.iloc[index1]['chr2']==loopDataset2.iloc[index2]['chr2']:\n",
    "                middleX1 = abs(loopDataset1.iloc[index1]['x1']+loopDataset1.iloc[index1]['x2'])/2\n",
    "                middleY1 = abs(loopDataset1.iloc[index1]['y1']+loopDataset1.iloc[index1]['y2'])/2\n",
    "                middleX2 = abs(loopDataset2.iloc[index2]['x1']+loopDataset2.iloc[index2]['x2'])/2\n",
    "                middleY2 = abs(loopDataset2.iloc[index2]['y1']+loopDataset2.iloc[index2]['y2'])/2\n",
    "                \n",
    "                if abs(middleX1-middleX2)<=threshold:\n",
    "                    countOfMatchedLoopsAtLeastSingleAnchor+=1\n",
    "                    if abs(middleY1-middleY2)<=threshold:\n",
    "                        countOfMatchedLoopsBothAnchors+=1\n",
    "                elif abs(middleY2-middleY1)<=threshold:\n",
    "                    countOfMatchedLoopsAtLeastSingleAnchor+=1\n",
    "    with open(r\"\"+str(filename)+\"-\"+str(threshold), \"wb\") as input_file:\n",
    "        pickle.dump(countOfMatchedLoopsBothAnchors,input_file)\n",
    "    with open(r\"single-\"+str(filename)+\"-\"+str(threshold), \"wb\") as input_file:\n",
    "        pickle.dump(countOfMatchedLoopsAtLeastSingleAnchor,input_file)\n",
    "    return countOfMatchedLoopsAtLeastSingleAnchor, countOfMatchedLoopsBothAnchors"
   ]
  },
  {
   "cell_type": "code",
   "execution_count": 16,
   "metadata": {},
   "outputs": [],
   "source": [
    "thresholds=[5000,10000]"
   ]
  },
  {
   "cell_type": "code",
   "execution_count": 17,
   "metadata": {},
   "outputs": [
    {
     "name": "stdout",
     "output_type": "stream",
     "text": [
      "Finished: hicLcHicRadIndex, with threshold: 5000\n",
      "Finished: chiaLcChiaRadCount, with threshold: 5000\n",
      "Finished: chiaLcHicLcCount, with threshold: 5000\n",
      "Finished: chiaRadHicLdCount, with threshold: 5000\n",
      "Finished: chiaLcRadHicRadCount, with threshold: 5000\n",
      "Finished: hicLcHicRadIndex, with threshold: 10000\n",
      "Finished: chiaLcChiaRadCount, with threshold: 10000\n",
      "Finished: chiaLcHicLcCount, with threshold: 10000\n",
      "Finished: chiaRadHicLdCount, with threshold: 10000\n",
      "Finished: chiaLcRadHicRadCount, with threshold: 10000\n"
     ]
    }
   ],
   "source": [
    "results=[]\n",
    "\n",
    "for threshold in thresholds:\n",
    "    for pairIndex in pairsIndexes:\n",
    "        atLeastSingleAnchorCount, bothAnchorsCount = compareFilteredLoops(**pairIndex,threshold=threshold)\n",
    "        results.append([atLeastSingleAnchorCount,bothAnchorsCount])\n",
    "        print('Finished: ' +str(pairIndex['filename'])+\", with threshold: \"+str(threshold))"
   ]
  },
  {
   "cell_type": "code",
   "execution_count": 35,
   "metadata": {},
   "outputs": [],
   "source": [
    "results=[]\n",
    "for threshold in thresholds:\n",
    "    for i,pairIndex in enumerate(pairsIndexes):\n",
    "        with open(pairIndex['filename']+\"-\"+str(threshold), \"rb\") as input_file: # Chia Rad Hic Rad\n",
    "            result = pickle.load(input_file)\n",
    "        with open(pairIndex['filename']+\"-\"+str(threshold), \"rb\") as input_file: # Chia Rad Hic Rad\n",
    "            single = pickle.load(input_file)\n",
    "        results.append([result,len(pairIndex['filteredIndexes1']),len(pairIndex['filteredIndexes2']),descriptions[i]['loop1'],descriptions[i]['loop2'],descriptions[i]['peak1'],descriptions[i]['peak2'],threshold])"
   ]
  },
  {
   "cell_type": "code",
   "execution_count": 26,
   "metadata": {},
   "outputs": [],
   "source": [
    "resultsDf=pd.DataFrame(results,columns=['matched','count1','count2','loop1','loop2','peak1','peak2','threshold'])"
   ]
  },
  {
   "cell_type": "code",
   "execution_count": 33,
   "metadata": {},
   "outputs": [
    {
     "name": "stdout",
     "output_type": "stream",
     "text": [
      "Hic filtered by Ctcf vs Hic filtered by Rad21\n",
      "\tHic filtered by Ctcf total: 8374\n",
      "\tHic filtered by Rad21 total: 8377\n",
      "\tMatched: 3747716\n",
      "\n",
      "\n",
      "ChiaPet filtered by Ctcf vs ChiaPet filtered by Rad21\n",
      "\tChiaPet filtered by Ctcf total: 9520\n",
      "\tChiaPet filtered by Rad21 total: 9756\n",
      "\tMatched: 5264625\n",
      "\n",
      "\n",
      "ChiaPet filtered by Ctcf vs Hic filtered by Ctcf\n",
      "\tChiaPet filtered by Ctcf total: 9520\n",
      "\tHic filtered by Ctcf total: 8374\n",
      "\tMatched: 2643826\n",
      "\n",
      "\n",
      "ChiaPet filtered by Rad21 vs Hic filtered by Ctcf\n",
      "\tChiaPet filtered by Rad21 total: 9756\n",
      "\tHic filtered by Ctcf total: 8374\n",
      "\tMatched: 2694459\n",
      "\n",
      "\n",
      "ChiaPet filtered by Rad21 vs Hic filtered by Rad21\n",
      "\tChiaPet filtered by Rad21 total: 9756\n",
      "\tHic filtered by Rad21 total: 8377\n",
      "\tMatched: 2729286\n",
      "\n",
      "\n",
      "Hic filtered by Ctcf vs Hic filtered by Rad21\n",
      "\tHic filtered by Ctcf total: 8374\n",
      "\tHic filtered by Rad21 total: 8377\n",
      "\tMatched: 3747716\n",
      "\n",
      "\n",
      "ChiaPet filtered by Ctcf vs ChiaPet filtered by Rad21\n",
      "\tChiaPet filtered by Ctcf total: 9520\n",
      "\tChiaPet filtered by Rad21 total: 9756\n",
      "\tMatched: 5270734\n",
      "\n",
      "\n",
      "ChiaPet filtered by Ctcf vs Hic filtered by Ctcf\n",
      "\tChiaPet filtered by Ctcf total: 9520\n",
      "\tHic filtered by Ctcf total: 8374\n",
      "\tMatched: 4247073\n",
      "\n",
      "\n",
      "ChiaPet filtered by Rad21 vs Hic filtered by Ctcf\n",
      "\tChiaPet filtered by Rad21 total: 9756\n",
      "\tHic filtered by Ctcf total: 8374\n",
      "\tMatched: 4347546\n",
      "\n",
      "\n",
      "ChiaPet filtered by Rad21 vs Hic filtered by Rad21\n",
      "\tChiaPet filtered by Rad21 total: 9756\n",
      "\tHic filtered by Rad21 total: 8377\n",
      "\tMatched: 4347264\n",
      "\n",
      "\n"
     ]
    }
   ],
   "source": [
    "for i,result in resultsDf.iterrows():\n",
    "    print(result['loop1']+\" filtered by \" +result['peak1']+\" vs \"+result['loop2']+\" filtered by \"+result['peak2'])\n",
    "    print(\"\\t\"+result['loop1']+\" filtered by \"+result['peak1']+\" total: \"+str(result['count1']))\n",
    "    print(\"\\t\"+result['loop2']+\" filtered by \"+result['peak2']+\" total: \"+str(result['count2']))\n",
    "    print(\"\\tMatched: \"+str(result['matched']))\n",
    "    print(\"\\n\")"
   ]
  },
  {
   "cell_type": "code",
   "execution_count": 38,
   "metadata": {},
   "outputs": [],
   "source": [
    "resultsBar=[]\n",
    "for i,result in enumerate(results):\n",
    "    resultsBar.append([result[3]+\"-\" +result[5]+\" vs \"+result[4]+\"-\"+result[6],result[0],i,result[7]])\n",
    "    resultsBar.append([result[3]+\" by \"+result[5],result[1],i,result[7]])\n",
    "    resultsBar.append([result[4]+\" by \"+result[6],result[2],i,result[7]])"
   ]
  },
  {
   "cell_type": "code",
   "execution_count": 40,
   "metadata": {},
   "outputs": [],
   "source": [
    "resultsBarDf=pd.DataFrame(resultsBar,columns=['description','result','series','threshold'])"
   ]
  },
  {
   "cell_type": "code",
   "execution_count": 49,
   "metadata": {},
   "outputs": [
    {
     "data": {
      "image/png": "[encoded data removed]",
      "text/plain": [
       "<Figure size 800x800 with 1 Axes>"
      ]
     },
     "metadata": {},
     "output_type": "display_data"
    },
    {
     "data": {
      "image/png": "[encoded data removed]",
      "text/plain": [
       "<Figure size 800x800 with 1 Axes>"
      ]
     },
     "metadata": {},
     "output_type": "display_data"
    }
   ],
   "source": [
    "plt.figure(figsize=(8,8))\n",
    "plt.title('Comparison of matched and filtered loops for threshold of 5000')\n",
    "\n",
    "sns.barplot(data=resultsBarDf[resultsBarDf['threshold']==5000],x='series',y='result',hue='description')\n",
    "plt.tight_layout()\n",
    "plt.show()\n",
    "\n",
    "plt.figure(figsize=(8,8))\n",
    "plt.title('Comparison of matched and filtered loops for threshold of 10000')\n",
    "\n",
    "sns.barplot(data=resultsBarDf[resultsBarDf['threshold']==10000],x='series',y='result',hue='description')\n",
    "plt.tight_layout()\n",
    "plt.show()"
   ]
  },
  {
   "cell_type": "code",
   "execution_count": 56,
   "metadata": {},
   "outputs": [
    {
     "data": {
      "image/png": "[encoded data removed]",
      "text/plain": [
       "<Figure size 1200x800 with 1 Axes>"
      ]
     },
     "metadata": {},
     "output_type": "display_data"
    }
   ],
   "source": [
    "plt.figure(figsize=(12,8))\n",
    "plt.title('Comparison of matched loops')\n",
    "filteredData=resultsBarDf[resultsBarDf['description'].str.contains('vs', na = False)]\n",
    "sns.barplot(data=filteredData,x='description',y='result',hue='threshold')\n",
    "plt.tight_layout()\n",
    "plt.show()"
   ]
  },
  {
   "cell_type": "code",
   "execution_count": 59,
   "metadata": {},
   "outputs": [
    {
     "data": {
      "image/png": "[encoded data removed]",
      "text/plain": [
       "<Figure size 800x800 with 1 Axes>"
      ]
     },
     "metadata": {},
     "output_type": "display_data"
    }
   ],
   "source": [
    "plt.figure(figsize=(8,8))\n",
    "plt.title('filtered loops')\n",
    "filteredData=resultsBarDf[resultsBarDf['description'].str.contains('by', na = False)]\n",
    "sns.barplot(data=filteredData[filteredData['threshold']==5000],x='description',y='result',hue='description')\n",
    "plt.tight_layout()\n",
    "plt.show()\n"
   ]
  },
  {
   "cell_type": "markdown",
   "metadata": {},
   "source": [
    "Make a visualization of a selected region (e.g. in IGV), choose something that looks nicely, zoom in enough so that you can see the peak locations. You can also include the loops matched between 2 datasets."
   ]
  },
  {
   "cell_type": "code",
   "execution_count": null,
   "metadata": {},
   "outputs": [
    {
     "data": {
      "text/plain": [
       "#chr1         10\n",
       "x1       2927640\n",
       "x2       2930200\n",
       "chr2          10\n",
       "y1       3042166\n",
       "y2       3044612\n",
       "?             18\n",
       "Name: 5192, dtype: object"
      ]
     },
     "execution_count": 47,
     "metadata": {},
     "output_type": "execute_result"
    }
   ],
   "source": [
    "chiaPetLoops.iloc[peakLoopChiaLCtcfPPairs[0]]"
   ]
  }
 ],
 "metadata": {
  "kernelspec": {
   "display_name": "Python 3",
   "language": "python",
   "name": "python3"
  },
  "language_info": {
   "codemirror_mode": {
    "name": "ipython",
    "version": 3
   },
   "file_extension": ".py",
   "mimetype": "text/x-python",
   "name": "python",
   "nbconvert_exporter": "python",
   "pygments_lexer": "ipython3",
   "version": "3.11.0"
  }
 },
 "nbformat": 4,
 "nbformat_minor": 2
}
