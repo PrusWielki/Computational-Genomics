{
 "cells": [
  {
   "cell_type": "code",
   "execution_count": 1,
   "metadata": {},
   "outputs": [
    {
     "name": "stderr",
     "output_type": "stream",
     "text": [
      "C:\\Users\\prusak.patryk\\AppData\\Local\\Temp\\ipykernel_3300\\554386847.py:1: DeprecationWarning: \n",
      "Pyarrow will become a required dependency of pandas in the next major release of pandas (pandas 3.0),\n",
      "(to allow more performant data types, such as the Arrow string type, and better interoperability with other libraries)\n",
      "but was not found to be installed on your system.\n",
      "If this would cause problems for you,\n",
      "please provide us feedback at https://github.com/pandas-dev/pandas/issues/54466\n",
      "        \n",
      "  import pandas as pd\n"
     ]
    }
   ],
   "source": [
    "import pandas as pd\n",
    "import numpy as np\n",
    "import pyranges\n",
    "import pickle\n",
    "import os.path"
   ]
  },
  {
   "cell_type": "code",
   "execution_count": 2,
   "metadata": {},
   "outputs": [
    {
     "name": "stderr",
     "output_type": "stream",
     "text": [
      "c:\\Users\\prusak.patryk\\AppData\\Local\\Programs\\Python\\Python312\\Lib\\site-packages\\pyranges\\methods\\init.py:45: FutureWarning: The default of observed=False is deprecated and will be changed to True in a future version of pandas. Pass observed=False to retain current behavior or observed=True to adopt the future default and silence this warning.\n",
      "  return {k: v for k, v in df.groupby(grpby_key)}\n",
      "c:\\Users\\prusak.patryk\\AppData\\Local\\Programs\\Python\\Python312\\Lib\\site-packages\\pyranges\\methods\\init.py:45: FutureWarning: The default of observed=False is deprecated and will be changed to True in a future version of pandas. Pass observed=False to retain current behavior or observed=True to adopt the future default and silence this warning.\n",
      "  return {k: v for k, v in df.groupby(grpby_key)}\n"
     ]
    }
   ],
   "source": [
    "hicLoops = pd.read_csv('./Dataset/merged_loops.bedpe',delimiter='\\t')\n",
    "ctcfPeaks = pyranges.read_bed('./Dataset/ENCFF356LIU.bed').df\n",
    "chiaPetLoops = pd.read_csv('./Dataset/4DNFIS9CCN6R.bedpe',delimiter='\\t', header=None)\n",
    "rad21Peaks=pyranges.read_bed('./Dataset/ENCFF834GOT.bed').df\n",
    "\n",
    "hicLoops=hicLoops[1:]\n",
    "chiaPetLoops.columns = ['#chr1','x1','x2','chr2','y1','y2','?']"
   ]
  },
  {
   "cell_type": "code",
   "execution_count": 3,
   "metadata": {},
   "outputs": [],
   "source": [
    "ctcfPeaks['Chromosome']=ctcfPeaks['Chromosome'].apply(lambda x: x.removeprefix('chr'))"
   ]
  },
  {
   "cell_type": "markdown",
   "metadata": {},
   "source": [
    "1. Given a loop, consider chr1, x1, x2, chr2, y1, y2\n",
    "2. For each row check whether a matching peak has an anchor in chr1 or chr2 or both\n",
    "3. Could be done with 2 for loops but lets try to get it dont maybe with df?"
   ]
  },
  {
   "cell_type": "code",
   "execution_count": 4,
   "metadata": {},
   "outputs": [],
   "source": [
    "def getAnchors(loops,peaks):\n",
    "    bothAnchorsIndexes = []\n",
    "    singleAnchorCount=0\n",
    "    for i,loop in loops.iterrows():\n",
    "        anchor1=False\n",
    "        anchor2=False\n",
    "        sameChromosome = peaks[peaks['Chromosome']==loop['#chr1']]\n",
    "        x1=sameChromosome[sameChromosome['Start']>=loop['x1']]\n",
    "        x2=x1[x1['End']<=loop['x2']]\n",
    "        if len(x2) > 0:\n",
    "            anchor1=True\n",
    "\n",
    "\n",
    "        sameChromosome = peaks[peaks['Chromosome']==loop['chr2']]\n",
    "        x1=sameChromosome[sameChromosome['Start']>=loop['y1']]\n",
    "        x2=x1[x1['End']<=loop['y2']]\n",
    "        if len(x2) > 0:\n",
    "            anchor2=True\n",
    "\n",
    "        if anchor1 == True and anchor2 == True:\n",
    "            bothAnchorsIndexes.append(i)\n",
    "            singleAnchorCount+=1\n",
    "        elif anchor1 == True or anchor2 == True:\n",
    "            singleAnchorCount+=1\n",
    "    return bothAnchorsIndexes, singleAnchorCount"
   ]
  },
  {
   "cell_type": "code",
   "execution_count": 12,
   "metadata": {},
   "outputs": [],
   "source": [
    "def applyGetAnchors(loop,peaks):\n",
    "    anchor1=False\n",
    "    anchor2=False\n",
    "    sameChromosome = peaks[peaks['Chromosome']==loop['#chr1']]\n",
    "    x1=sameChromosome[sameChromosome['Start']>=loop['x1']]\n",
    "    x2=x1[x1['End']<=loop['x2']]\n",
    "    if len(x2) > 0:\n",
    "        anchor1=True\n",
    "    sameChromosome = peaks[peaks['Chromosome']==loop['chr2']]\n",
    "    x1=sameChromosome[sameChromosome['Start']>=loop['y1']]\n",
    "    x2=x1[x1['End']<=loop['y2']]\n",
    "    if len(x2) > 0:\n",
    "        anchor2=True\n",
    "    if anchor1 == True and anchor2 == True:\n",
    "        return loop"
   ]
  },
  {
   "cell_type": "code",
   "execution_count": 14,
   "metadata": {},
   "outputs": [],
   "source": [
    "peakLoopHicLCtcfPPairs,peakLoopHicLCtcfPSingleAnchorCount = getAnchors(hicLoops,ctcfPeaks)\n",
    "with open(\"peakLoopHicLCtcfPPairs\", \"wb\") as f:\n",
    "    pickle.dump(peakLoopHicLCtcfPPairs, f)\n",
    "with open(\"peakLoopHicLCtcfPSingleAnchorCount\", \"wb\") as f:\n",
    "    pickle.dump(peakLoopHicLCtcfPSingleAnchorCount, f)"
   ]
  },
  {
   "cell_type": "code",
   "execution_count": 63,
   "metadata": {},
   "outputs": [],
   "source": [
    "peakLoopHicLRad21PPairs,peakLoopHicLRad21PSingleAnchorCount = getAnchors(hicLoops,rad21Peaks)\n",
    "with open(\"peakLoopHicLRad21PPairs\", \"wb\") as f:\n",
    "    pickle.dump(peakLoopHicLRad21PPairs, f)\n",
    "with open(\"peakLoopHicLRad21PSingleAnchorCount\", \"wb\") as f:\n",
    "    pickle.dump(peakLoopHicLRad21PSingleAnchorCount, f)"
   ]
  },
  {
   "cell_type": "code",
   "execution_count": 4,
   "metadata": {},
   "outputs": [],
   "source": [
    "peakLoopChiaLCtcfPPairs,peakLoopChiaLCtcfPSingleAnchorCount = getAnchors(chiaPetLoops,ctcfPeaks)\n",
    "with open(\"peakLoopChiaLCtcfPPairs\", \"wb\") as f:\n",
    "    pickle.dump(peakLoopChiaLCtcfPPairs, f)\n",
    "with open(\"peakLoopChiaLCtcfPSingleAnchorCount\", \"wb\") as f:\n",
    "    pickle.dump(peakLoopChiaLCtcfPSingleAnchorCount, f)"
   ]
  },
  {
   "cell_type": "code",
   "execution_count": 5,
   "metadata": {},
   "outputs": [],
   "source": [
    "peakLoopChiaLRad21PPairs,peakLoopChiaLRad21PSingleAnchorCount = getAnchors(chiaPetLoops,rad21Peaks)\n",
    "with open(\"peakLoopChiaLRad21PPairs\", \"wb\") as f:\n",
    "    pickle.dump(peakLoopChiaLRad21PPairs, f)\n",
    "with open(\"peakLoopChiaLRad21PSingleAnchorCount\", \"wb\") as f:\n",
    "    pickle.dump(peakLoopChiaLRad21PSingleAnchorCount, f)"
   ]
  },
  {
   "cell_type": "markdown",
   "metadata": {},
   "source": [
    "Perform 4 comparisons between datasets. for two compared datasets (A and B) calculate how many loops from A match (**) some loop from B, and how many loops from B match some loop from A. You can present the result as a 2x2 table showing counts of total and matched loops for datasets."
   ]
  },
  {
   "cell_type": "code",
   "execution_count": null,
   "metadata": {},
   "outputs": [
    {
     "ename": "FileNotFoundError",
     "evalue": "[Errno 2] No such file or directory: 'peakLoopChiaLCtcfPPairs'",
     "output_type": "error",
     "traceback": [
      "\u001b[1;31m---------------------------------------------------------------------------\u001b[0m",
      "\u001b[1;31mFileNotFoundError\u001b[0m                         Traceback (most recent call last)",
      "Cell \u001b[1;32mIn[9], line 8\u001b[0m\n\u001b[0;32m      1\u001b[0m \u001b[38;5;66;03m# peakLoopChiaLCtcfPPairs\u001b[39;00m\n\u001b[0;32m      2\u001b[0m \u001b[38;5;66;03m# peakLoopHicLCtcfPPairs = []\u001b[39;00m\n\u001b[0;32m      3\u001b[0m \u001b[38;5;66;03m# peakLoopHicLCtcfPSingleAnchorCount\u001b[39;00m\n\u001b[1;32m   (...)\u001b[0m\n\u001b[0;32m      6\u001b[0m \u001b[38;5;66;03m# peakLoopChiaLRad21PPairs = []\u001b[39;00m\n\u001b[0;32m      7\u001b[0m \u001b[38;5;66;03m# peakLoopChiaLRad21PSingleAnchorCount =\u001b[39;00m\n\u001b[1;32m----> 8\u001b[0m \u001b[38;5;28;01mwith\u001b[39;00m \u001b[38;5;28;43mopen\u001b[39;49m\u001b[43m(\u001b[49m\u001b[38;5;124;43mr\u001b[39;49m\u001b[38;5;124;43m\"\u001b[39;49m\u001b[38;5;124;43mpeakLoopChiaLCtcfPPairs\u001b[39;49m\u001b[38;5;124;43m\"\u001b[39;49m\u001b[43m,\u001b[49m\u001b[43m \u001b[49m\u001b[38;5;124;43m\"\u001b[39;49m\u001b[38;5;124;43mrb\u001b[39;49m\u001b[38;5;124;43m\"\u001b[39;49m\u001b[43m)\u001b[49m \u001b[38;5;28;01mas\u001b[39;00m input_file: \u001b[38;5;66;03m# Chia LC\u001b[39;00m\n\u001b[0;32m      9\u001b[0m      peakLoopChiaLCtcfPPairs \u001b[38;5;241m=\u001b[39m pickle\u001b[38;5;241m.\u001b[39mload(input_file)\n\u001b[0;32m     11\u001b[0m \u001b[38;5;28;01mwith\u001b[39;00m \u001b[38;5;28mopen\u001b[39m(\u001b[38;5;124mr\u001b[39m\u001b[38;5;124m\"\u001b[39m\u001b[38;5;124mpeakLoopHicLCtcfPPairs\u001b[39m\u001b[38;5;124m\"\u001b[39m, \u001b[38;5;124m\"\u001b[39m\u001b[38;5;124mrb\u001b[39m\u001b[38;5;124m\"\u001b[39m) \u001b[38;5;28;01mas\u001b[39;00m input_file: \u001b[38;5;66;03m# HIC LC\u001b[39;00m\n",
      "File \u001b[1;32m~\\AppData\\Roaming\\Python\\Python312\\site-packages\\IPython\\core\\interactiveshell.py:310\u001b[0m, in \u001b[0;36m_modified_open\u001b[1;34m(file, *args, **kwargs)\u001b[0m\n\u001b[0;32m    303\u001b[0m \u001b[38;5;28;01mif\u001b[39;00m file \u001b[38;5;129;01min\u001b[39;00m {\u001b[38;5;241m0\u001b[39m, \u001b[38;5;241m1\u001b[39m, \u001b[38;5;241m2\u001b[39m}:\n\u001b[0;32m    304\u001b[0m     \u001b[38;5;28;01mraise\u001b[39;00m \u001b[38;5;167;01mValueError\u001b[39;00m(\n\u001b[0;32m    305\u001b[0m         \u001b[38;5;124mf\u001b[39m\u001b[38;5;124m\"\u001b[39m\u001b[38;5;124mIPython won\u001b[39m\u001b[38;5;124m'\u001b[39m\u001b[38;5;124mt let you open fd=\u001b[39m\u001b[38;5;132;01m{\u001b[39;00mfile\u001b[38;5;132;01m}\u001b[39;00m\u001b[38;5;124m by default \u001b[39m\u001b[38;5;124m\"\u001b[39m\n\u001b[0;32m    306\u001b[0m         \u001b[38;5;124m\"\u001b[39m\u001b[38;5;124mas it is likely to crash IPython. If you know what you are doing, \u001b[39m\u001b[38;5;124m\"\u001b[39m\n\u001b[0;32m    307\u001b[0m         \u001b[38;5;124m\"\u001b[39m\u001b[38;5;124myou can use builtins\u001b[39m\u001b[38;5;124m'\u001b[39m\u001b[38;5;124m open.\u001b[39m\u001b[38;5;124m\"\u001b[39m\n\u001b[0;32m    308\u001b[0m     )\n\u001b[1;32m--> 310\u001b[0m \u001b[38;5;28;01mreturn\u001b[39;00m \u001b[43mio_open\u001b[49m\u001b[43m(\u001b[49m\u001b[43mfile\u001b[49m\u001b[43m,\u001b[49m\u001b[43m \u001b[49m\u001b[38;5;241;43m*\u001b[39;49m\u001b[43margs\u001b[49m\u001b[43m,\u001b[49m\u001b[43m \u001b[49m\u001b[38;5;241;43m*\u001b[39;49m\u001b[38;5;241;43m*\u001b[39;49m\u001b[43mkwargs\u001b[49m\u001b[43m)\u001b[49m\n",
      "\u001b[1;31mFileNotFoundError\u001b[0m: [Errno 2] No such file or directory: 'peakLoopChiaLCtcfPPairs'"
     ]
    }
   ],
   "source": [
    "with open(r\"peakLoopChiaLCtcfPPairs\", \"rb\") as input_file: # Chia LC\n",
    "     peakLoopChiaLCtcfPPairs = pickle.load(input_file)\n",
    "\n",
    "with open(r\"peakLoopHicLCtcfPPairs\", \"rb\") as input_file: # HIC LC\n",
    "     peakLoopHicLCtcfPPairs = pickle.load(input_file)\n",
    "\n",
    "with open(r\"peakLoopChiaLRad21PPairs\", \"rb\") as input_file: # CHIA Rad\n",
    "     peakLoopChiaLRad21PPairs = pickle.load(input_file)\n",
    "\n",
    "with open(r\"peakLoopHicLRad21PPairs\", \"rb\") as input_file: # Hic Rad\n",
    "     peakLoopHicLRad21PPairs = pickle.load(input_file)\n",
    "\n",
    "chiaLcChiaRadCount = 0\n",
    "singleAnchorChiaLcChiaRadCount = 0\n",
    "for chiaLcIndex in peakLoopChiaLCtcfPPairs:\n",
    "     for chiaLRadIndex in peakLoopChiaLRad21PPairs:\n",
    "          if abs(chiaPetLoopsXArr[chiaLcIndex[0]][0]-chiaPetLoopsXArr[chiaLRadIndex[0]][0])<=1 and abs(chiaPetLoopsXArr[chiaLcIndex[0]][1]-chiaPetLoopsXArr[chiaLRadIndex[0]][1])<=1:\n",
    "               chiaLcChiaRadCount+=1\n",
    "          elif abs(chiaPetLoopsXArr[chiaLcIndex[0]][0]-chiaPetLoopsXArr[chiaLRadIndex[0]][0])<=1 or abs(chiaPetLoopsXArr[chiaLcIndex[0]][1]-chiaPetLoopsXArr[chiaLRadIndex[0]][1])<=1:\n",
    "               singleAnchorChiaLcChiaRadCount+=1\n",
    "print(chiaLcChiaRadCount)\n",
    "print(singleAnchorChiaLcChiaRadCount)\n",
    "\n",
    "\n",
    "chiaLcHicLcCount = 0\n",
    "singleAnchorChiaLcHicLcCount = 0\n",
    "for chiaLcIndex in peakLoopChiaLCtcfPPairs:\n",
    "     for hicLcIndex in peakLoopChiaLCtcfPPairs:\n",
    "          if abs(chiaPetLoopsXArr[chiaLcIndex[0]][0]-hicLoopsXArr[hicLcIndex[0]][0])<=1 and abs(chiaPetLoopsXArr[chiaLcIndex[0]][1]-hicLoopsXArr[hicLcIndex[0]][1])<=1:\n",
    "               chiaLcHicLcCount+=1\n",
    "          if abs(chiaPetLoopsXArr[chiaLcIndex[0]][0]-hicLoopsXArr[hicLcIndex[0]][0])<=1 or abs(chiaPetLoopsXArr[chiaLcIndex[0]][1]-hicLoopsXArr[hicLcIndex[0]][1])<=1:\n",
    "               singleAnchorChiaLcHicLcCount+=1\n",
    "print(chiaLcHicLcCount)\n",
    "print(singleAnchorChiaLcHicLcCount)\n",
    "\n",
    "\n",
    "chiaLcHicRadCount = 0\n",
    "singleAnchorChiaLcHicRadCount = 0\n",
    "for chiaLcIndex in peakLoopChiaLCtcfPPairs:\n",
    "     for hicRadIndex in peakLoopHicLRad21PPairs:\n",
    "          if abs(chiaPetLoopsXArr[chiaLcIndex[0]][0]-hicLoopsXArr[hicRadIndex[0]][0])<=1 and abs(chiaPetLoopsXArr[chiaLcIndex[0]][1]-hicLoopsXArr[hicRadIndex[0]][1])<=1:\n",
    "               chiaLcHicRadCount+=1\n",
    "          if abs(chiaPetLoopsXArr[chiaLcIndex[0]][0]-hicLoopsXArr[hicRadIndex[0]][0])<=1 or abs(chiaPetLoopsXArr[chiaLcIndex[0]][1]-hicLoopsXArr[hicRadIndex[0]][1])<=1:\n",
    "               singleAnchorChiaLcHicRadCount+=1\n",
    "print(chiaLcHicRadCount)\n",
    "print(singleAnchorChiaLcHicRadCount)\n",
    "\n",
    "\n",
    "hicLcHicRadIndex = 0\n",
    "singleAnchorHicLcHicRadIndex = 0\n",
    "for hicLcIndex in peakLoopHicLCtcfPPairs:\n",
    "     for hicRadIndex in peakLoopHicLRad21PPairs:\n",
    "          if abs(hicLoopsXArr[hicLcIndex[0]][0]-hicLoopsXArr[hicRadIndex[0]][0])<=1 and abs(hicLoopsXArr[hicLcIndex[0]][1]-hicLoopsXArr[hicRadIndex[0]][1])<=1:\n",
    "               hicLcHicRadIndex+=1\n",
    "          if abs(hicLoopsXArr[hicLcIndex[0]][0]-hicLoopsXArr[hicRadIndex[0]][0])<=1 or abs(hicLoopsXArr[hicLcIndex[0]][1]-hicLoopsXArr[hicRadIndex[0]][1])<=1:\n",
    "               singleAnchorHicLcHicRadIndex+=1\n",
    "print(hicLcHicRadIndex)\n",
    "print(singleAnchorHicLcHicRadIndex)"
   ]
  },
  {
   "cell_type": "markdown",
   "metadata": {},
   "source": [
    "Make a visualization of a selected region (e.g. in IGV), choose something that looks nicely, zoom in enough so that you can see the peak locations. You can also include the loops matched between 2 datasets."
   ]
  }
 ],
 "metadata": {
  "kernelspec": {
   "display_name": "Python 3",
   "language": "python",
   "name": "python3"
  },
  "language_info": {
   "codemirror_mode": {
    "name": "ipython",
    "version": 3
   },
   "file_extension": ".py",
   "mimetype": "text/x-python",
   "name": "python",
   "nbconvert_exporter": "python",
   "pygments_lexer": "ipython3",
   "version": "3.12.2"
  }
 },
 "nbformat": 4,
 "nbformat_minor": 2
}
