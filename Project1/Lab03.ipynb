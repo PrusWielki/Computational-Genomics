{
 "cells": [
  {
   "cell_type": "markdown",
   "metadata": {},
   "source": [
    "# Computational Genomics - Task 3"
   ]
  },
  {
   "cell_type": "code",
   "execution_count": 1,
   "metadata": {},
   "outputs": [],
   "source": [
    "import numpy as np\n",
    "import pandas as pd\n",
    "\n",
    "import matplotlib.pyplot as plt\n",
    "import seaborn as sns\n",
    "import scipy.stats"
   ]
  },
  {
   "cell_type": "code",
   "execution_count": 2,
   "metadata": {},
   "outputs": [],
   "source": [
    "# %pip install pyBigWig\n",
    "# %pip install biopython\n",
    "# %pip install pyranges"
   ]
  },
  {
   "cell_type": "markdown",
   "metadata": {},
   "source": [
    "### Opening and visualizing a 1D signal track from a bigWig file"
   ]
  },
  {
   "cell_type": "code",
   "execution_count": 3,
   "metadata": {},
   "outputs": [],
   "source": [
    "import pyBigWig\n",
    "\n",
    "bw = pyBigWig.open(\"ENCFF578TBN_FOCchange.bigWig\")"
   ]
  },
  {
   "cell_type": "code",
   "execution_count": 4,
   "metadata": {},
   "outputs": [
    {
     "data": {
      "text/plain": [
       "{'chrUn_KI270337v1': 1121,\n",
       " 'chrUn_KI270749v1': 158759,\n",
       " 'chr1_KI270713v1_random': 40745,\n",
       " 'chr13': 114364328,\n",
       " 'chr12': 133275309,\n",
       " 'chr11': 135086622,\n",
       " 'chr10': 133797422,\n",
       " 'chr17': 83257441,\n",
       " 'chr16': 90338345,\n",
       " 'chr15': 101991189,\n",
       " 'chr14': 107043718,\n",
       " 'chrUn_GL000218v1': 161147,\n",
       " 'chr19': 58617616,\n",
       " 'chr18': 80373285,\n",
       " 'chrUn_GL000219v1': 179198,\n",
       " 'chr17_KI270729v1_random': 280839,\n",
       " 'chrUn_GL000213v1': 164239,\n",
       " 'chrUn_KI270746v1': 66486,\n",
       " 'chrUn_KI270516v1': 1300,\n",
       " 'chrUn_KI270747v1': 198735,\n",
       " 'chrUn_GL000214v1': 137718,\n",
       " 'chr9_KI270720v1_random': 39050,\n",
       " 'chrUn_KI270538v1': 91309,\n",
       " 'chrEBV': 171823,\n",
       " 'chr15_KI270727v1_random': 448248,\n",
       " 'chrUn_KI270333v1': 2699,\n",
       " 'chrUn_KI270435v1': 92983,\n",
       " 'chrUn_KI270741v1': 157432,\n",
       " 'chrUn_KI270743v1': 210658,\n",
       " 'chrUn_KI270744v1': 168472,\n",
       " 'chr22_KI270732v1_random': 41543,\n",
       " 'chrUn_GL000216v2': 176608,\n",
       " 'chrUn_GL000195v1': 182896,\n",
       " 'chrUn_KI270742v1': 186739,\n",
       " 'chr14_GL000194v1_random': 191469,\n",
       " 'chrUn_KI270590v1': 4685,\n",
       " 'chrUn_KI270751v1': 150742,\n",
       " 'chrUn_KI270750v1': 148850,\n",
       " 'chr9_KI270719v1_random': 176845,\n",
       " 'chr22_KI270737v1_random': 103838,\n",
       " 'chr17_GL000205v2_random': 185591,\n",
       " 'chrUn_KI270509v1': 2318,\n",
       " 'chr4_GL000008v2_random': 209709,\n",
       " 'chrUn_KI270753v1': 62944,\n",
       " 'chr17_KI270730v1_random': 112551,\n",
       " 'chr22_KI270734v1_random': 165050,\n",
       " 'chrUn_KI270448v1': 7992,\n",
       " 'chr1_KI270711v1_random': 42210,\n",
       " 'chr22_KI270733v1_random': 179772,\n",
       " 'chrUn_KI270588v1': 6158,\n",
       " 'chrUn_KI270511v1': 8127,\n",
       " 'chr14_GL000009v2_random': 201709,\n",
       " 'chr14_KI270724v1_random': 39555,\n",
       " 'chrUn_KI270517v1': 3253,\n",
       " 'chrUn_KI270757v1': 71251,\n",
       " 'chr1_KI270709v1_random': 66860,\n",
       " 'chr2_KI270715v1_random': 161471,\n",
       " 'chrUn_KI270756v1': 79590,\n",
       " 'chr1_KI270706v1_random': 175055,\n",
       " 'chrUn_KI270584v1': 4513,\n",
       " 'chrUn_KI270336v1': 1026,\n",
       " 'chr16_KI270728v1_random': 1872759,\n",
       " 'chr14_KI270722v1_random': 194050,\n",
       " 'chrUn_KI270519v1': 138126,\n",
       " 'chr1_KI270712v1_random': 176043,\n",
       " 'chrUn_KI270442v1': 392061,\n",
       " 'chr1_KI270708v1_random': 127682,\n",
       " 'chr14_KI270723v1_random': 38115,\n",
       " 'chr9_KI270718v1_random': 38054,\n",
       " 'chr22_KI270739v1_random': 73985,\n",
       " 'chr22_KI270736v1_random': 181920,\n",
       " 'chr2': 242193529,\n",
       " 'chr5_GL000208v1_random': 92689,\n",
       " 'chr1_KI270710v1_random': 40176,\n",
       " 'chrUn_KI270438v1': 112505,\n",
       " 'chrUn_KI270591v1': 5796,\n",
       " 'chr1_KI270714v1_random': 41717,\n",
       " 'chr14_KI270725v1_random': 172810,\n",
       " 'chr14_GL000225v1_random': 211173,\n",
       " 'chrY': 57227415,\n",
       " 'chrX': 156040895,\n",
       " 'chrUn_GL000220v1': 161802,\n",
       " 'chrM': 16569,\n",
       " 'chrUn_GL000224v1': 179693,\n",
       " 'chr22_KI270738v1_random': 99375,\n",
       " 'chrUn_KI270467v1': 3920,\n",
       " 'chrUn_KI270507v1': 5353,\n",
       " 'chrUn_KI270512v1': 22689,\n",
       " 'chr22_KI270735v1_random': 42811,\n",
       " 'chr22': 50818468,\n",
       " 'chr20': 64444167,\n",
       " 'chr21': 46709983,\n",
       " 'chr2_KI270716v1_random': 153799,\n",
       " 'chrUn_KI270468v1': 4055,\n",
       " 'chr7': 159345973,\n",
       " 'chr6': 170805979,\n",
       " 'chr5': 181538259,\n",
       " 'chr4': 190214555,\n",
       " 'chr3': 198295559,\n",
       " 'chrUn_KI270589v1': 44474,\n",
       " 'chr1': 248956422,\n",
       " 'chrUn_KI270466v1': 1233,\n",
       " 'chr9': 138394717,\n",
       " 'chr8': 145138636,\n",
       " 'chrUn_KI270465v1': 1774}"
      ]
     },
     "execution_count": 4,
     "metadata": {},
     "output_type": "execute_result"
    }
   ],
   "source": [
    "bw.chroms()"
   ]
  },
  {
   "cell_type": "code",
   "execution_count": 5,
   "metadata": {},
   "outputs": [
    {
     "data": {
      "text/plain": [
       "{'version': 4,\n",
       " 'nLevels': 10,\n",
       " 'nBasesCovered': 3094819913,\n",
       " 'minVal': 0,\n",
       " 'maxVal': 289,\n",
       " 'sumData': 1292406559,\n",
       " 'sumSquared': 7358208942}"
      ]
     },
     "execution_count": 5,
     "metadata": {},
     "output_type": "execute_result"
    }
   ],
   "source": [
    "bw.header()"
   ]
  },
  {
   "cell_type": "code",
   "execution_count": 6,
   "metadata": {},
   "outputs": [],
   "source": [
    "# Study the bw.stats and bw. values method"
   ]
  },
  {
   "cell_type": "code",
   "execution_count": 7,
   "metadata": {},
   "outputs": [
    {
     "data": {
      "text/plain": [
       "[0.439326752541282,\n",
       " 0.4287509563099254,\n",
       " 0.539603349165483,\n",
       " 0.3238440002441406,\n",
       " 0.3570554568204013,\n",
       " 0.37017324454567646,\n",
       " 0.3308227523803711,\n",
       " 0.3962791711980646,\n",
       " 0.9085139198996803,\n",
       " 0.4335125288529829]"
      ]
     },
     "execution_count": 7,
     "metadata": {},
     "output_type": "execute_result"
    }
   ],
   "source": [
    "bw.stats(\"chr3\", 1_000_000, 1_100_000, type=\"mean\", nBins=10)"
   ]
  },
  {
   "cell_type": "code",
   "execution_count": 8,
   "metadata": {},
   "outputs": [
    {
     "data": {
      "text/plain": [
       "(100,)"
      ]
     },
     "execution_count": 8,
     "metadata": {},
     "output_type": "execute_result"
    }
   ],
   "source": [
    "bw.values(\"chr3\", 2_000_000, 2_000_100, numpy=True).shape"
   ]
  },
  {
   "cell_type": "markdown",
   "metadata": {},
   "source": [
    "## Finding CTCF motifs"
   ]
  },
  {
   "cell_type": "markdown",
   "metadata": {},
   "source": [
    "Let's use a very simple method of finding potential CTCF binding sites, by using a PSSM matrix to search for binding motifs.\n",
    "We'll use https://biopython.org/docs/dev/Tutorial/chapter_motifs.html\n",
    "\n",
    "Alternatively, use the pre-caclulated binding site locations in the file ENCFF138REW_GGCCACYAGRKGGCGSYV.bed"
   ]
  },
  {
   "cell_type": "code",
   "execution_count": 9,
   "metadata": {},
   "outputs": [
    {
     "name": "stdout",
     "output_type": "stream",
     "text": [
      "Sequences: dict_keys(['1'])\n",
      "name=\"1\", id=\"1\", description=\"1 dna:chromosome chromosome:GRCh38:1:1:248956422:1 REF\"\n",
      "248956422 <class 'Bio.Seq.Seq'>\n"
     ]
    }
   ],
   "source": [
    "import gzip\n",
    "from Bio import SeqIO, motifs\n",
    "\n",
    "with gzip.open(\"./Homo_sapiens.GRCh38.dna.chromosome.1.fa.gz\", \"rt\") as f:\n",
    "    record_dict = SeqIO.to_dict(SeqIO.parse(f, \"fasta\"))\n",
    "\n",
    "print(f\"Sequences: {record_dict.keys()}\")\n",
    "rec = record_dict[\"1\"]\n",
    "print(f'name=\"{rec.name}\", id=\"{rec.id}\", description=\"{rec.description}\"')\n",
    "chr1_seq = rec.seq\n",
    "print(len(chr1_seq), type(chr1_seq))"
   ]
  },
  {
   "cell_type": "code",
   "execution_count": 10,
   "metadata": {},
   "outputs": [
    {
     "name": "stdout",
     "output_type": "stream",
     "text": [
      "<class 'Bio.motifs.jaspar.Motif'>\n",
      "TF name\tCTCF\n",
      "Matrix ID\tMA0139.1\n",
      "Matrix:\n",
      "        0      1      2      3      4      5      6      7      8      9     10     11     12     13     14     15     16     17     18\n",
      "A:  87.00 167.00 281.00  56.00   8.00 744.00  40.00 107.00 851.00   5.00 333.00  54.00  12.00  56.00 104.00 372.00  82.00 117.00 402.00\n",
      "C: 291.00 145.00  49.00 800.00 903.00  13.00 528.00 433.00  11.00   0.00   3.00  12.00   0.00   8.00 733.00  13.00 482.00 322.00 181.00\n",
      "G:  76.00 414.00 449.00  21.00   0.00  65.00 334.00  48.00  32.00 903.00 566.00 504.00 890.00 775.00   5.00 507.00 307.00  73.00 266.00\n",
      "T: 459.00 187.00 134.00  36.00   2.00  91.00  11.00 324.00  18.00   3.00   9.00 341.00   8.00  71.00  67.00  17.00  37.00 396.00  59.00\n",
      "\n",
      "\n",
      "\n",
      "PWM:\n",
      "        0      1      2      3      4      5      6      7      8      9     10     11     12     13     14     15     16     17     18\n",
      "A:   0.10   0.18   0.31   0.06   0.01   0.81   0.04   0.12   0.93   0.01   0.37   0.06   0.01   0.06   0.12   0.41   0.09   0.13   0.44\n",
      "C:   0.32   0.16   0.05   0.87   0.99   0.02   0.58   0.47   0.01   0.00   0.00   0.01   0.00   0.01   0.80   0.02   0.53   0.35   0.20\n",
      "G:   0.08   0.45   0.49   0.02   0.00   0.07   0.37   0.05   0.04   0.99   0.62   0.55   0.97   0.85   0.01   0.56   0.34   0.08   0.29\n",
      "T:   0.50   0.21   0.15   0.04   0.00   0.10   0.01   0.35   0.02   0.00   0.01   0.37   0.01   0.08   0.07   0.02   0.04   0.44   0.07\n",
      "\n",
      "PSSM:\n",
      "        0      1      2      3      4      5      6      7      8      9     10     11     12     13     14     15     16     17     18\n",
      "A:  -1.38  -0.45   0.30  -2.01  -4.67   1.70  -2.48  -1.08   1.90  -5.25   0.55  -2.06  -4.14  -2.00  -1.12   0.71  -1.46  -0.95   0.82\n",
      "C:   0.35  -0.65  -2.20   1.80   1.98  -4.03   1.21   0.92  -4.25  -7.84  -5.84  -4.14  -7.84  -4.67   1.69  -4.03   1.08   0.50  -0.33\n",
      "G:  -1.57   0.86   0.97  -3.38  -7.84  -1.80   0.55  -2.22  -2.79   1.98   1.31   1.14   1.96   1.76  -5.25   1.15   0.43  -1.62   0.23\n",
      "T:   1.00  -0.29  -0.76  -2.63  -6.26  -1.32  -4.26   0.51  -3.59  -5.84  -4.52   0.58  -4.67  -1.67  -1.75  -3.66  -2.58   0.80  -1.93\n",
      "\n"
     ]
    }
   ],
   "source": [
    "with open(\"./MA0139.1.jaspar\") as f:\n",
    "    m = motifs.read(f, fmt=\"jaspar\")\n",
    "m.pseudocounts = 1.0\n",
    "\n",
    "print(type(m))\n",
    "print(m)\n",
    "print(f\"PWM:\\n{m.pwm}\")\n",
    "print(f\"PSSM:\\n{m.pssm}\")"
   ]
  },
  {
   "cell_type": "markdown",
   "metadata": {},
   "source": [
    "We find the match scores at each location..."
   ]
  },
  {
   "cell_type": "code",
   "execution_count": 11,
   "metadata": {},
   "outputs": [
    {
     "data": {
      "text/plain": [
       "(248956404,)"
      ]
     },
     "execution_count": 11,
     "metadata": {},
     "output_type": "execute_result"
    }
   ],
   "source": [
    "scores = m.pssm.calculate(chr1_seq)\n",
    "scores.shape"
   ]
  },
  {
   "cell_type": "code",
   "execution_count": 12,
   "metadata": {},
   "outputs": [
    {
     "data": {
      "text/plain": [
       "(230478377, 0.9257780611259151)"
      ]
     },
     "execution_count": 12,
     "metadata": {},
     "output_type": "execute_result"
    }
   ],
   "source": [
    "good_scores = ~np.isnan(scores) & ~np.isinf(scores)\n",
    "good_scores.sum(), good_scores.mean()"
   ]
  },
  {
   "cell_type": "code",
   "execution_count": 13,
   "metadata": {},
   "outputs": [
    {
     "data": {
      "image/png": "[encoded data removed]",
      "text/plain": [
       "<Figure size 640x480 with 1 Axes>"
      ]
     },
     "metadata": {},
     "output_type": "display_data"
    }
   ],
   "source": [
    "plt.hist(scores[good_scores]);"
   ]
  },
  {
   "cell_type": "markdown",
   "metadata": {},
   "source": [
    "...but what is a \"good\" score?"
   ]
  },
  {
   "cell_type": "code",
   "execution_count": 14,
   "metadata": {},
   "outputs": [
    {
     "name": "stdout",
     "output_type": "stream",
     "text": [
      "8.42\n"
     ]
    }
   ],
   "source": [
    "score_dist = m.pssm.distribution(precision=10**4)\n",
    "threshold = score_dist.threshold_fpr(0.0001)\n",
    "print(f\"{threshold:.3}\")"
   ]
  },
  {
   "cell_type": "code",
   "execution_count": 15,
   "metadata": {},
   "outputs": [
    {
     "data": {
      "text/plain": [
       "(24315,)"
      ]
     },
     "execution_count": 15,
     "metadata": {},
     "output_type": "execute_result"
    }
   ],
   "source": [
    "filt_scores = scores[good_scores & (scores >= threshold)]\n",
    "filt_scores_pos = np.flatnonzero(good_scores & (scores >= threshold))\n",
    "filt_scores.shape"
   ]
  },
  {
   "cell_type": "markdown",
   "metadata": {},
   "source": [
    "Let's get the coords of motifs, and write them into a file:"
   ]
  },
  {
   "cell_type": "code",
   "execution_count": 16,
   "metadata": {},
   "outputs": [
    {
     "data": {
      "text/html": [
       "<div>\n",
       "<style scoped>\n",
       "    .dataframe tbody tr th:only-of-type {\n",
       "        vertical-align: middle;\n",
       "    }\n",
       "\n",
       "    .dataframe tbody tr th {\n",
       "        vertical-align: top;\n",
       "    }\n",
       "\n",
       "    .dataframe thead th {\n",
       "        text-align: right;\n",
       "    }\n",
       "</style>\n",
       "<table border=\"1\" class=\"dataframe\">\n",
       "  <thead>\n",
       "    <tr style=\"text-align: right;\">\n",
       "      <th></th>\n",
       "      <th>chromosome</th>\n",
       "      <th>start</th>\n",
       "      <th>end</th>\n",
       "    </tr>\n",
       "  </thead>\n",
       "  <tbody>\n",
       "    <tr>\n",
       "      <th>0</th>\n",
       "      <td>chr1</td>\n",
       "      <td>16650</td>\n",
       "      <td>16669</td>\n",
       "    </tr>\n",
       "    <tr>\n",
       "      <th>1</th>\n",
       "      <td>chr1</td>\n",
       "      <td>17091</td>\n",
       "      <td>17110</td>\n",
       "    </tr>\n",
       "    <tr>\n",
       "      <th>2</th>\n",
       "      <td>chr1</td>\n",
       "      <td>18119</td>\n",
       "      <td>18138</td>\n",
       "    </tr>\n",
       "    <tr>\n",
       "      <th>3</th>\n",
       "      <td>chr1</td>\n",
       "      <td>22561</td>\n",
       "      <td>22580</td>\n",
       "    </tr>\n",
       "    <tr>\n",
       "      <th>4</th>\n",
       "      <td>chr1</td>\n",
       "      <td>34941</td>\n",
       "      <td>34960</td>\n",
       "    </tr>\n",
       "    <tr>\n",
       "      <th>...</th>\n",
       "      <td>...</td>\n",
       "      <td>...</td>\n",
       "      <td>...</td>\n",
       "    </tr>\n",
       "    <tr>\n",
       "      <th>24310</th>\n",
       "      <td>chr1</td>\n",
       "      <td>248944298</td>\n",
       "      <td>248944317</td>\n",
       "    </tr>\n",
       "    <tr>\n",
       "      <th>24311</th>\n",
       "      <td>chr1</td>\n",
       "      <td>248944481</td>\n",
       "      <td>248944500</td>\n",
       "    </tr>\n",
       "    <tr>\n",
       "      <th>24312</th>\n",
       "      <td>chr1</td>\n",
       "      <td>248944540</td>\n",
       "      <td>248944559</td>\n",
       "    </tr>\n",
       "    <tr>\n",
       "      <th>24313</th>\n",
       "      <td>chr1</td>\n",
       "      <td>248944598</td>\n",
       "      <td>248944617</td>\n",
       "    </tr>\n",
       "    <tr>\n",
       "      <th>24314</th>\n",
       "      <td>chr1</td>\n",
       "      <td>248944657</td>\n",
       "      <td>248944676</td>\n",
       "    </tr>\n",
       "  </tbody>\n",
       "</table>\n",
       "<p>24315 rows × 3 columns</p>\n",
       "</div>"
      ],
      "text/plain": [
       "      chromosome      start        end\n",
       "0           chr1      16650      16669\n",
       "1           chr1      17091      17110\n",
       "2           chr1      18119      18138\n",
       "3           chr1      22561      22580\n",
       "4           chr1      34941      34960\n",
       "...          ...        ...        ...\n",
       "24310       chr1  248944298  248944317\n",
       "24311       chr1  248944481  248944500\n",
       "24312       chr1  248944540  248944559\n",
       "24313       chr1  248944598  248944617\n",
       "24314       chr1  248944657  248944676\n",
       "\n",
       "[24315 rows x 3 columns]"
      ]
     },
     "execution_count": 16,
     "metadata": {},
     "output_type": "execute_result"
    }
   ],
   "source": [
    "motif_coorsds = pd.DataFrame(\n",
    "    {\"chromosome\": \"chr1\", \"start\": filt_scores_pos, \"end\": filt_scores_pos + len(m)}\n",
    ")\n",
    "motif_coorsds"
   ]
  },
  {
   "cell_type": "code",
   "execution_count": 17,
   "metadata": {},
   "outputs": [],
   "source": [
    "motif_coorsds.to_csv(\"motif_coords.bed\", index=False, header=False, sep=\"\\t\")"
   ]
  },
  {
   "cell_type": "markdown",
   "metadata": {},
   "source": [
    "**Task: Visualize parts of the signal for some loaction**"
   ]
  },
  {
   "cell_type": "markdown",
   "metadata": {},
   "source": [
    "## Finding overlaps"
   ]
  },
  {
   "cell_type": "markdown",
   "metadata": {},
   "source": [
    "Let's find peaks that contain the motifs."
   ]
  },
  {
   "cell_type": "code",
   "execution_count": 18,
   "metadata": {},
   "outputs": [
    {
     "name": "stderr",
     "output_type": "stream",
     "text": [
      "/home/michade/mambaforge/envs/sci/lib/python3.11/site-packages/pyranges/methods/init.py:45: FutureWarning: The default of observed=False is deprecated and will be changed to True in a future version of pandas. Pass observed=False to retain current behavior or observed=True to adopt the future default and silence this warning.\n",
      "  return {k: v for k, v in df.groupby(grpby_key)}\n"
     ]
    },
    {
     "data": {
      "text/html": [
       "<div>\n",
       "<style scoped>\n",
       "    .dataframe tbody tr th:only-of-type {\n",
       "        vertical-align: middle;\n",
       "    }\n",
       "\n",
       "    .dataframe tbody tr th {\n",
       "        vertical-align: top;\n",
       "    }\n",
       "\n",
       "    .dataframe thead th {\n",
       "        text-align: right;\n",
       "    }\n",
       "</style>\n",
       "<table border=\"1\" class=\"dataframe\">\n",
       "  <thead>\n",
       "    <tr style=\"text-align: right;\">\n",
       "      <th></th>\n",
       "      <th>Chromosome</th>\n",
       "      <th>Start</th>\n",
       "      <th>End</th>\n",
       "    </tr>\n",
       "  </thead>\n",
       "  <tbody>\n",
       "    <tr>\n",
       "      <th>0</th>\n",
       "      <td>chr1</td>\n",
       "      <td>16650</td>\n",
       "      <td>16669</td>\n",
       "    </tr>\n",
       "    <tr>\n",
       "      <th>1</th>\n",
       "      <td>chr1</td>\n",
       "      <td>17091</td>\n",
       "      <td>17110</td>\n",
       "    </tr>\n",
       "    <tr>\n",
       "      <th>2</th>\n",
       "      <td>chr1</td>\n",
       "      <td>18119</td>\n",
       "      <td>18138</td>\n",
       "    </tr>\n",
       "    <tr>\n",
       "      <th>3</th>\n",
       "      <td>chr1</td>\n",
       "      <td>22561</td>\n",
       "      <td>22580</td>\n",
       "    </tr>\n",
       "    <tr>\n",
       "      <th>4</th>\n",
       "      <td>chr1</td>\n",
       "      <td>34941</td>\n",
       "      <td>34960</td>\n",
       "    </tr>\n",
       "    <tr>\n",
       "      <th>...</th>\n",
       "      <td>...</td>\n",
       "      <td>...</td>\n",
       "      <td>...</td>\n",
       "    </tr>\n",
       "    <tr>\n",
       "      <th>24310</th>\n",
       "      <td>chr1</td>\n",
       "      <td>248944298</td>\n",
       "      <td>248944317</td>\n",
       "    </tr>\n",
       "    <tr>\n",
       "      <th>24311</th>\n",
       "      <td>chr1</td>\n",
       "      <td>248944481</td>\n",
       "      <td>248944500</td>\n",
       "    </tr>\n",
       "    <tr>\n",
       "      <th>24312</th>\n",
       "      <td>chr1</td>\n",
       "      <td>248944540</td>\n",
       "      <td>248944559</td>\n",
       "    </tr>\n",
       "    <tr>\n",
       "      <th>24313</th>\n",
       "      <td>chr1</td>\n",
       "      <td>248944598</td>\n",
       "      <td>248944617</td>\n",
       "    </tr>\n",
       "    <tr>\n",
       "      <th>24314</th>\n",
       "      <td>chr1</td>\n",
       "      <td>248944657</td>\n",
       "      <td>248944676</td>\n",
       "    </tr>\n",
       "  </tbody>\n",
       "</table>\n",
       "<p>24315 rows × 3 columns</p>\n",
       "</div>"
      ],
      "text/plain": [
       "+--------------+-----------+-----------+\n",
       "| Chromosome   | Start     | End       |\n",
       "| (category)   | (int64)   | (int64)   |\n",
       "|--------------+-----------+-----------|\n",
       "| chr1         | 16650     | 16669     |\n",
       "| chr1         | 17091     | 17110     |\n",
       "| chr1         | 18119     | 18138     |\n",
       "| chr1         | 22561     | 22580     |\n",
       "| ...          | ...       | ...       |\n",
       "| chr1         | 248944481 | 248944500 |\n",
       "| chr1         | 248944540 | 248944559 |\n",
       "| chr1         | 248944598 | 248944617 |\n",
       "| chr1         | 248944657 | 248944676 |\n",
       "+--------------+-----------+-----------+\n",
       "Unstranded PyRanges object has 24,315 rows and 3 columns from 1 chromosomes.\n",
       "For printing, the PyRanges was sorted on Chromosome."
      ]
     },
     "execution_count": 18,
     "metadata": {},
     "output_type": "execute_result"
    }
   ],
   "source": [
    "import pyranges as pr  # https://pyranges.readthedocs.io/\n",
    "\n",
    "binding_motifs = pr.read_bed(\"motif_coords.bed\")\n",
    "binding_motifs"
   ]
  },
  {
   "cell_type": "code",
   "execution_count": 19,
   "metadata": {},
   "outputs": [
    {
     "name": "stderr",
     "output_type": "stream",
     "text": [
      "/home/michade/mambaforge/envs/sci/lib/python3.11/site-packages/pyranges/methods/init.py:45: FutureWarning: The default of observed=False is deprecated and will be changed to True in a future version of pandas. Pass observed=False to retain current behavior or observed=True to adopt the future default and silence this warning.\n",
      "  return {k: v for k, v in df.groupby(grpby_key)}\n"
     ]
    },
    {
     "data": {
      "text/html": [
       "<div>\n",
       "<style scoped>\n",
       "    .dataframe tbody tr th:only-of-type {\n",
       "        vertical-align: middle;\n",
       "    }\n",
       "\n",
       "    .dataframe tbody tr th {\n",
       "        vertical-align: top;\n",
       "    }\n",
       "\n",
       "    .dataframe thead th {\n",
       "        text-align: right;\n",
       "    }\n",
       "</style>\n",
       "<table border=\"1\" class=\"dataframe\">\n",
       "  <thead>\n",
       "    <tr style=\"text-align: right;\">\n",
       "      <th></th>\n",
       "      <th>Chromosome</th>\n",
       "      <th>Start</th>\n",
       "      <th>End</th>\n",
       "    </tr>\n",
       "  </thead>\n",
       "  <tbody>\n",
       "    <tr>\n",
       "      <th>0</th>\n",
       "      <td>chr1</td>\n",
       "      <td>41575742</td>\n",
       "      <td>41575958</td>\n",
       "    </tr>\n",
       "    <tr>\n",
       "      <th>1</th>\n",
       "      <td>chr1</td>\n",
       "      <td>111738939</td>\n",
       "      <td>111739155</td>\n",
       "    </tr>\n",
       "    <tr>\n",
       "      <th>2</th>\n",
       "      <td>chr1</td>\n",
       "      <td>164891634</td>\n",
       "      <td>164891850</td>\n",
       "    </tr>\n",
       "    <tr>\n",
       "      <th>3</th>\n",
       "      <td>chr1</td>\n",
       "      <td>35288057</td>\n",
       "      <td>35288273</td>\n",
       "    </tr>\n",
       "    <tr>\n",
       "      <th>4</th>\n",
       "      <td>chr1</td>\n",
       "      <td>32242568</td>\n",
       "      <td>32242784</td>\n",
       "    </tr>\n",
       "    <tr>\n",
       "      <th>...</th>\n",
       "      <td>...</td>\n",
       "      <td>...</td>\n",
       "      <td>...</td>\n",
       "    </tr>\n",
       "    <tr>\n",
       "      <th>43860</th>\n",
       "      <td>chrX</td>\n",
       "      <td>133792535</td>\n",
       "      <td>133792724</td>\n",
       "    </tr>\n",
       "    <tr>\n",
       "      <th>43861</th>\n",
       "      <td>chrX</td>\n",
       "      <td>10119460</td>\n",
       "      <td>10119874</td>\n",
       "    </tr>\n",
       "    <tr>\n",
       "      <th>43862</th>\n",
       "      <td>chrX</td>\n",
       "      <td>12946847</td>\n",
       "      <td>12947085</td>\n",
       "    </tr>\n",
       "    <tr>\n",
       "      <th>43863</th>\n",
       "      <td>chrX</td>\n",
       "      <td>100768813</td>\n",
       "      <td>100769037</td>\n",
       "    </tr>\n",
       "    <tr>\n",
       "      <th>43864</th>\n",
       "      <td>chrX</td>\n",
       "      <td>154534862</td>\n",
       "      <td>154535123</td>\n",
       "    </tr>\n",
       "  </tbody>\n",
       "</table>\n",
       "<p>43865 rows × 3 columns</p>\n",
       "</div>"
      ],
      "text/plain": [
       "+--------------+-----------+-----------+\n",
       "| Chromosome   | Start     | End       |\n",
       "| (category)   | (int64)   | (int64)   |\n",
       "|--------------+-----------+-----------|\n",
       "| chr1         | 41575742  | 41575958  |\n",
       "| chr1         | 111738939 | 111739155 |\n",
       "| chr1         | 164891634 | 164891850 |\n",
       "| chr1         | 35288057  | 35288273  |\n",
       "| ...          | ...       | ...       |\n",
       "| chrX         | 10119460  | 10119874  |\n",
       "| chrX         | 12946847  | 12947085  |\n",
       "| chrX         | 100768813 | 100769037 |\n",
       "| chrX         | 154534862 | 154535123 |\n",
       "+--------------+-----------+-----------+\n",
       "Unstranded PyRanges object has 43,865 rows and 3 columns from 26 chromosomes.\n",
       "For printing, the PyRanges was sorted on Chromosome."
      ]
     },
     "execution_count": 19,
     "metadata": {},
     "output_type": "execute_result"
    }
   ],
   "source": [
    "peaks = pr.read_bed(\"./ENCFF960ZGP_optThreshPeaks.bed\")\n",
    "peaks = peaks[[\"Chromosome\", \"Start\", \"End\"]]\n",
    "peaks"
   ]
  },
  {
   "cell_type": "code",
   "execution_count": 20,
   "metadata": {},
   "outputs": [
    {
     "data": {
      "text/html": [
       "<div>\n",
       "<style scoped>\n",
       "    .dataframe tbody tr th:only-of-type {\n",
       "        vertical-align: middle;\n",
       "    }\n",
       "\n",
       "    .dataframe tbody tr th {\n",
       "        vertical-align: top;\n",
       "    }\n",
       "\n",
       "    .dataframe thead th {\n",
       "        text-align: right;\n",
       "    }\n",
       "</style>\n",
       "<table border=\"1\" class=\"dataframe\">\n",
       "  <thead>\n",
       "    <tr style=\"text-align: right;\">\n",
       "      <th></th>\n",
       "      <th>Chromosome</th>\n",
       "      <th>Start</th>\n",
       "      <th>End</th>\n",
       "    </tr>\n",
       "  </thead>\n",
       "  <tbody>\n",
       "    <tr>\n",
       "      <th>0</th>\n",
       "      <td>chr1</td>\n",
       "      <td>164891634</td>\n",
       "      <td>164891850</td>\n",
       "    </tr>\n",
       "    <tr>\n",
       "      <th>1</th>\n",
       "      <td>chr1</td>\n",
       "      <td>98661689</td>\n",
       "      <td>98661905</td>\n",
       "    </tr>\n",
       "    <tr>\n",
       "      <th>2</th>\n",
       "      <td>chr1</td>\n",
       "      <td>2311565</td>\n",
       "      <td>2311781</td>\n",
       "    </tr>\n",
       "    <tr>\n",
       "      <th>3</th>\n",
       "      <td>chr1</td>\n",
       "      <td>90046773</td>\n",
       "      <td>90046989</td>\n",
       "    </tr>\n",
       "    <tr>\n",
       "      <th>4</th>\n",
       "      <td>chr1</td>\n",
       "      <td>21900219</td>\n",
       "      <td>21900435</td>\n",
       "    </tr>\n",
       "    <tr>\n",
       "      <th>...</th>\n",
       "      <td>...</td>\n",
       "      <td>...</td>\n",
       "      <td>...</td>\n",
       "    </tr>\n",
       "    <tr>\n",
       "      <th>1795</th>\n",
       "      <td>chr1</td>\n",
       "      <td>9627016</td>\n",
       "      <td>9627283</td>\n",
       "    </tr>\n",
       "    <tr>\n",
       "      <th>1796</th>\n",
       "      <td>chr1</td>\n",
       "      <td>114346566</td>\n",
       "      <td>114346817</td>\n",
       "    </tr>\n",
       "    <tr>\n",
       "      <th>1797</th>\n",
       "      <td>chr1</td>\n",
       "      <td>159161069</td>\n",
       "      <td>159161298</td>\n",
       "    </tr>\n",
       "    <tr>\n",
       "      <th>1798</th>\n",
       "      <td>chr1</td>\n",
       "      <td>150979542</td>\n",
       "      <td>150979773</td>\n",
       "    </tr>\n",
       "    <tr>\n",
       "      <th>1799</th>\n",
       "      <td>chr1</td>\n",
       "      <td>225474995</td>\n",
       "      <td>225475251</td>\n",
       "    </tr>\n",
       "  </tbody>\n",
       "</table>\n",
       "<p>1800 rows × 3 columns</p>\n",
       "</div>"
      ],
      "text/plain": [
       "+--------------+-----------+-----------+\n",
       "| Chromosome   | Start     | End       |\n",
       "| (category)   | (int64)   | (int64)   |\n",
       "|--------------+-----------+-----------|\n",
       "| chr1         | 164891634 | 164891850 |\n",
       "| chr1         | 98661689  | 98661905  |\n",
       "| chr1         | 2311565   | 2311781   |\n",
       "| chr1         | 90046773  | 90046989  |\n",
       "| ...          | ...       | ...       |\n",
       "| chr1         | 114346566 | 114346817 |\n",
       "| chr1         | 159161069 | 159161298 |\n",
       "| chr1         | 150979542 | 150979773 |\n",
       "| chr1         | 225474995 | 225475251 |\n",
       "+--------------+-----------+-----------+\n",
       "Unstranded PyRanges object has 1,800 rows and 3 columns from 1 chromosomes.\n",
       "For printing, the PyRanges was sorted on Chromosome."
      ]
     },
     "execution_count": 20,
     "metadata": {},
     "output_type": "execute_result"
    }
   ],
   "source": [
    "peaks.overlap(binding_motifs)"
   ]
  },
  {
   "cell_type": "markdown",
   "metadata": {},
   "source": [
    "**Task**: Generate statistics on the overlaps, visualize and inspect them in IGV."
   ]
  },
  {
   "cell_type": "code",
   "execution_count": null,
   "metadata": {},
   "outputs": [],
   "source": []
  }
 ],
 "metadata": {
  "kernelspec": {
   "display_name": "Python 3 (ipykernel)",
   "language": "python",
   "name": "python3"
  },
  "language_info": {
   "codemirror_mode": {
    "name": "ipython",
    "version": 3
   },
   "file_extension": ".py",
   "mimetype": "text/x-python",
   "name": "python",
   "nbconvert_exporter": "python",
   "pygments_lexer": "ipython3",
   "version": "3.11.6"
  }
 },
 "nbformat": 4,
 "nbformat_minor": 4
}
