{
 "cells": [
  {
   "cell_type": "code",
   "execution_count": 20,
   "metadata": {},
   "outputs": [],
   "source": [
    "import numpy as np\n",
    "import pandas as pd\n",
    "\n",
    "from matplotlib.colors import LinearSegmentedColormap\n",
    "from matplotlib import pyplot as plt\n",
    "from matplotlib import gridspec\n",
    "\n",
    "import matplotlib.pyplot as plt \n",
    "import seaborn as sns\n",
    "\n",
    "import hicstraw"
   ]
  },
  {
   "cell_type": "markdown",
   "metadata": {},
   "source": [
    "# Hi-C Straw\n",
    "\n",
    "(roughly based on https://colab.research.google.com/drive/1-GG-n-p9nZ7Be82UVJG7n3Q_wQ9IeuFN?usp=sharing#scrollTo=eVxfBGU1ZajP)"
   ]
  },
  {
   "cell_type": "code",
   "execution_count": 21,
   "metadata": {},
   "outputs": [],
   "source": [
    "# Get hic file handle\n",
    "# hic = hicstraw.HiCFile(\"https://www.encodeproject.org/files/ENCFF718AWL/@@download/ENCFF718AWL.hic\")\n",
    "hic = hicstraw.HiCFile(\"GSM1551688_HIC143.hic\")  # https://www.ncbi.nlm.nih.gov/geo/query/acc.cgi?acc=GSM1551688"
   ]
  },
  {
   "cell_type": "markdown",
   "metadata": {},
   "source": [
    "Query basic properties:"
   ]
  },
  {
   "cell_type": "code",
   "execution_count": 22,
   "metadata": {},
   "outputs": [
    {
     "name": "stdout",
     "output_type": "stream",
     "text": [
      "hg19\n",
      "[2500000, 1000000, 500000, 250000, 100000, 50000, 25000, 10000, 5000]\n"
     ]
    }
   ],
   "source": [
    "print(hic.getGenomeID())\n",
    "print(hic.getResolutions())"
   ]
  },
  {
   "cell_type": "code",
   "execution_count": 23,
   "metadata": {},
   "outputs": [
    {
     "name": "stdout",
     "output_type": "stream",
     "text": [
      "Chromosome label:\"All\", length:\t   3,098,789bp\n",
      "Chromosome label:\"1\", length:\t 249,250,621bp\n",
      "Chromosome label:\"2\", length:\t 243,199,373bp\n",
      "Chromosome label:\"3\", length:\t 198,022,430bp\n",
      "Chromosome label:\"4\", length:\t 191,154,276bp\n",
      "Chromosome label:\"5\", length:\t 180,915,260bp\n",
      "Chromosome label:\"6\", length:\t 171,115,067bp\n",
      "Chromosome label:\"7\", length:\t 159,138,663bp\n",
      "Chromosome label:\"8\", length:\t 146,364,022bp\n",
      "Chromosome label:\"9\", length:\t 141,213,431bp\n",
      "Chromosome label:\"10\", length:\t 135,534,747bp\n",
      "Chromosome label:\"11\", length:\t 135,006,516bp\n",
      "Chromosome label:\"12\", length:\t 133,851,895bp\n",
      "Chromosome label:\"13\", length:\t 115,169,878bp\n",
      "Chromosome label:\"14\", length:\t 107,349,540bp\n",
      "Chromosome label:\"15\", length:\t 102,531,392bp\n",
      "Chromosome label:\"16\", length:\t  90,354,753bp\n",
      "Chromosome label:\"17\", length:\t  81,195,210bp\n",
      "Chromosome label:\"18\", length:\t  78,077,248bp\n",
      "Chromosome label:\"19\", length:\t  59,128,983bp\n",
      "Chromosome label:\"20\", length:\t  63,025,520bp\n",
      "Chromosome label:\"21\", length:\t  48,129,895bp\n",
      "Chromosome label:\"22\", length:\t  51,304,566bp\n",
      "Chromosome label:\"X\", length:\t 155,270,560bp\n",
      "Chromosome label:\"Y\", length:\t  59,373,566bp\n",
      "Chromosome label:\"MT\", length:\t      16,569bp\n"
     ]
    }
   ],
   "source": [
    "for chrom in hic.getChromosomes():\n",
    "  print(f'Chromosome label:\"{chrom.name}\", length:\\t{chrom.length:12,}bp')"
   ]
  },
  {
   "cell_type": "code",
   "execution_count": 24,
   "metadata": {},
   "outputs": [],
   "source": [
    "# Intermediate object\n",
    "matrix_object_chr4 = hic.getMatrixZoomData('11', '11', \"observed\", \"NONE\", \"BP\", 100_000)"
   ]
  },
  {
   "cell_type": "markdown",
   "metadata": {},
   "source": [
    "Get a subset of the data as a numpy matrix:"
   ]
  },
  {
   "cell_type": "code",
   "execution_count": 25,
   "metadata": {},
   "outputs": [
    {
     "data": {
      "text/plain": [
       "(201, 201)"
      ]
     },
     "execution_count": 25,
     "metadata": {},
     "output_type": "execute_result"
    }
   ],
   "source": [
    "X = matrix_object_chr4.getRecordsAsMatrix(65_000_000, 85_000_000, 65_000_000, 85_000_000)\n",
    "# warning, if there is no data in a given region, you will get a 1x1 matrix!\n",
    "X.shape"
   ]
  },
  {
   "cell_type": "code",
   "execution_count": 26,
   "metadata": {},
   "outputs": [
    {
     "data": {
      "text/plain": [
       "array([[40.,  6.,  1., ...,  0.,  0.,  0.],\n",
       "       [ 6., 49., 20., ...,  0.,  0.,  0.],\n",
       "       [ 1., 20., 78., ...,  0.,  0.,  0.],\n",
       "       ...,\n",
       "       [ 0.,  0.,  0., ..., 32.,  2.,  1.],\n",
       "       [ 0.,  0.,  0., ...,  2., 38.,  3.],\n",
       "       [ 0.,  0.,  0., ...,  1.,  3., 32.]])"
      ]
     },
     "execution_count": 26,
     "metadata": {},
     "output_type": "execute_result"
    }
   ],
   "source": [
    "X"
   ]
  },
  {
   "cell_type": "code",
   "execution_count": 27,
   "metadata": {},
   "outputs": [
    {
     "data": {
      "image/png": "[encoded data removed]",
      "text/plain": [
       "<Figure size 480x480 with 1 Axes>"
      ]
     },
     "metadata": {},
     "output_type": "display_data"
    }
   ],
   "source": [
    "REDMAP = LinearSegmentedColormap.from_list(\"bright_red\", [(1,1,1),(1,0,0)])\n",
    "\n",
    "# helper function for plotting\n",
    "def plot_hic_map(dense_matrix, max_color):\n",
    "    plt.matshow(dense_matrix, cmap=REDMAP, vmin=0, vmax=max_color)\n",
    "    plt.show()\n",
    "\n",
    "plot_hic_map(X, X.max() / 2)"
   ]
  },
  {
   "cell_type": "code",
   "execution_count": 28,
   "metadata": {},
   "outputs": [
    {
     "name": "stdout",
     "output_type": "stream",
     "text": [
      "1400000 1400000 1.686457872390747\n",
      "1530000 1530000 6.435894966125488\n",
      "1680000 1680000 0.5157460570335388\n",
      "1020000 1020000 2.630796432495117\n",
      "1890000 1890000 1.7725704908370972\n",
      "1040000 1040000 3.9029037952423096\n",
      "1840000 1840000 3.407468557357788\n",
      "1150000 1150000 0.8546689748764038\n",
      "1580000 1580000 1.022089958190918\n",
      "1160000 1160000 0.6566410064697266\n"
     ]
    }
   ],
   "source": [
    "result = hicstraw.straw(\"observed\", 'KR', 'GSM1551688_HIC143.hic', '4:1000000:2000000', '4:1000000:2000000', 'BP', 10_000)\n",
    "for i in range(10):\n",
    "    print(result[i].binX, result[i].binX, result[i].counts)"
   ]
  },
  {
   "cell_type": "markdown",
   "metadata": {},
   "source": [
    "# Tasks"
   ]
  },
  {
   "cell_type": "markdown",
   "metadata": {},
   "source": [
    "1. Find a way to show nice raw (i.e. observed, no norm.) heatmaps (_hint_: `qua_____s`)\n",
    "2. Explore different normalizations\n",
    "3. Plot interaction frequency vs genomic distance (use lower resolution). How does it look like? Try to fit a function e.g. using `curve_fit` from `scipy.optimize`"
   ]
  },
  {
   "cell_type": "markdown",
   "metadata": {},
   "source": []
  }
 ],
 "metadata": {
  "kernelspec": {
   "display_name": "Python 3",
   "language": "python",
   "name": "python3"
  },
  "language_info": {
   "codemirror_mode": {
    "name": "ipython",
    "version": 3
   },
   "file_extension": ".py",
   "mimetype": "text/x-python",
   "name": "python",
   "nbconvert_exporter": "python",
   "pygments_lexer": "ipython3",
   "version": "3.11.6"
  }
 },
 "nbformat": 4,
 "nbformat_minor": 2
}
